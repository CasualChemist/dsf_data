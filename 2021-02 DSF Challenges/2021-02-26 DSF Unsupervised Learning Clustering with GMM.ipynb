{
 "cells": [
  {
   "cell_type": "code",
   "execution_count": 1,
   "metadata": {},
   "outputs": [],
   "source": [
    "#Import the ne\n",
    "import matplotlib.pyplot as plt\n",
    "import numpy as np\n",
    "import pandas as pd\n",
    "from scipy.cluster.hierarchy import dendrogram, linkage\n",
    "from sklearn import metrics\n",
    "from sklearn.decomposition import PCA\n",
    "from sklearn.mixture import GaussianMixture\n",
    "from sklearn.model_selection import train_test_split\n",
    "from sklearn.preprocessing import StandardScaler\n",
    "from sqlalchemy import create_engine\n",
    "import warnings\n",
    "warnings.filterwarnings(\"ignore\")"
   ]
  },
  {
   "cell_type": "code",
   "execution_count": 2,
   "metadata": {},
   "outputs": [],
   "source": [
    "#create the credentials\n",
    "postgres_user = 'dsbc_student'\n",
    "postgres_pw = '7*.8G9QH21'\n",
    "postgres_host = '142.93.121.174'\n",
    "postgres_port = '5432'\n",
    "heart_db = 'heartdisease'\n",
    "\n",
    "#create the engine\n",
    "engine = create_engine('postgresql://{}:{}@{}:{}/{}'.format(\n",
    "    postgres_user, postgres_pw, postgres_host, postgres_port, heart_db))\n",
    "\n",
    "heart_df = pd.read_sql_query('select * from heartdisease',con=engine)\n",
    "\n",
    "#dispose of the engine\n",
    "engine.dispose()"
   ]
  },
  {
   "cell_type": "code",
   "execution_count": 3,
   "metadata": {},
   "outputs": [],
   "source": [
    "#pulling the code from the lesson again\n",
    "# Define the features and the outcome\n",
    "X = heart_df.iloc[:, :13]\n",
    "y = heart_df.iloc[:, 13]\n",
    "\n",
    "# Replace missing values (marked by `?`) with a `0`\n",
    "X = X.replace(to_replace='?', value=0)\n",
    "\n",
    "# Binarize `y` so that `1` means heart disease diagnosis and `0` means no diagnosis\n",
    "y = np.where(y > 0, 0, 1)\n",
    "\n",
    "#standardize the new X set\n",
    "scaler = StandardScaler()\n",
    "X_trans = scaler.fit_transform(X)"
   ]
  },
  {
   "cell_type": "code",
   "execution_count": 14,
   "metadata": {},
   "outputs": [],
   "source": [
    "def gmm_test(n):\n",
    "    gmm = GaussianMixture(n_components=n, random_state=357)\n",
    "    clusters = gmm.fit_predict(X_trans)\n",
    "    pca = PCA(n_components=2).fit_transform(X_trans)\n",
    "    print('\\nThe ARI is: {}'.format(metrics.adjusted_rand_score(y, clusters)))\n",
    "    print('The silhouette is: {}'.format(metrics.silhouette_score(X_trans, clusters)))"
   ]
  },
  {
   "cell_type": "code",
   "execution_count": 15,
   "metadata": {},
   "outputs": [
    {
     "name": "stdout",
     "output_type": "stream",
     "text": [
      "\n",
      "The ARI is: 0.4207322145049338\n",
      "The silhouette is: 0.16118591340148433\n"
     ]
    }
   ],
   "source": [
    "gmm_test(2)"
   ]
  },
  {
   "cell_type": "markdown",
   "metadata": {},
   "source": [
    "For the n_clusters = 2 from KMeans:<br>\n",
    "ARI score: 0.43661540614807665<br>\n",
    "Silhouette score: 0.17440650461256255<br><br>\n",
    "Agg cluster (complete):<br>\n",
    "ARI score: -0.0010061512759301477<br>\n",
    "Silhouette score: 0.34836188921330785<br><br>\n",
    "Agg cluster (average):<br>\n",
    "ARI score: -0.0010061512759301477<br>\n",
    "Silhouette score: 0.34836188921330785<br><br>\n",
    "Agg cluster (ward):<br>\n",
    "ARI score: 0.146129913123814<br>\n",
    "Silhouette score: 0.1387197366557222"
   ]
  },
  {
   "cell_type": "markdown",
   "metadata": {},
   "source": [
    "KMeans has a slightly higher ARI while Agg cluster has the highest silhouette score. Based on the metrics, I would use the KMeans."
   ]
  },
  {
   "cell_type": "code",
   "execution_count": 18,
   "metadata": {},
   "outputs": [],
   "source": [
    "def gmm_test(t):\n",
    "    gmm = GaussianMixture(n_components=2, random_state=357, covariance_type=t)\n",
    "    clusters = gmm.fit_predict(X_trans)\n",
    "    pca = PCA(n_components=2).fit_transform(X_trans)\n",
    "    print('The ARI is: {}'.format(metrics.adjusted_rand_score(y, clusters)))\n",
    "    print('The silhouette is: {}'.format(metrics.silhouette_score(X_trans, clusters)))"
   ]
  },
  {
   "cell_type": "code",
   "execution_count": 19,
   "metadata": {},
   "outputs": [
    {
     "name": "stdout",
     "output_type": "stream",
     "text": [
      "The ARI is: 0.4207322145049338\n",
      "The silhouette is: 0.16118591340148433\n"
     ]
    }
   ],
   "source": [
    "gmm_test('full')"
   ]
  },
  {
   "cell_type": "code",
   "execution_count": 20,
   "metadata": {},
   "outputs": [
    {
     "name": "stdout",
     "output_type": "stream",
     "text": [
      "The ARI is: 0.4558104186161976\n",
      "The silhouette is: 0.1671559472293439\n"
     ]
    }
   ],
   "source": [
    "gmm_test('tied')"
   ]
  },
  {
   "cell_type": "code",
   "execution_count": 21,
   "metadata": {},
   "outputs": [
    {
     "name": "stdout",
     "output_type": "stream",
     "text": [
      "The ARI is: 0.37878842718089933\n",
      "The silhouette is: 0.15836933745078682\n"
     ]
    }
   ],
   "source": [
    "gmm_test('diag')"
   ]
  },
  {
   "cell_type": "code",
   "execution_count": null,
   "metadata": {},
   "outputs": [],
   "source": [
    "gmm_test('sp')"
   ]
  }
 ],
 "metadata": {
  "kernelspec": {
   "display_name": "Python 3",
   "language": "python",
   "name": "python3"
  },
  "language_info": {
   "codemirror_mode": {
    "name": "ipython",
    "version": 3
   },
   "file_extension": ".py",
   "mimetype": "text/x-python",
   "name": "python",
   "nbconvert_exporter": "python",
   "pygments_lexer": "ipython3",
   "version": "3.8.3"
  }
 },
 "nbformat": 4,
 "nbformat_minor": 4
}
