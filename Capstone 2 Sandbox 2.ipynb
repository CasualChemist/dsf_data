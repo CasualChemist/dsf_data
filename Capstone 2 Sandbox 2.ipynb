{
 "cells": [
  {
   "cell_type": "markdown",
   "metadata": {},
   "source": [
    "Having cleaned the data and made a couple of new features, we are ready to begin testing our models."
   ]
  },
  {
   "cell_type": "code",
   "execution_count": 1,
   "metadata": {},
   "outputs": [],
   "source": [
    "#import the necessities\n",
    "import matplotlib.pyplot as plt\n",
    "import numpy as np\n",
    "import pandas as pd\n",
    "import statsmodels.api as sm\n",
    "import xgboost as xgb\n",
    "import math\n",
    "import warnings\n",
    "from scipy.stats import bartlett, boxcox, jarque_bera, levene, normaltest, zscore\n",
    "from scipy.stats.mstats import winsorize\n",
    "from sklearn import ensemble\n",
    "from sklearn.linear_model import LinearRegression, RidgeCV, LassoCV, ElasticNetCV, LogisticRegression\n",
    "from sklearn.neighbors import KNeighborsClassifier, KNeighborsRegressor\n",
    "from sklearn.model_selection import cross_val_score, train_test_split\n",
    "from sklearn.metrics import mean_absolute_error\n",
    "from sklearn.svm import SVC, LinearSVC, SVR\n",
    "from sklearn.tree import DecisionTreeRegressor\n",
    "from sqlalchemy import create_engine\n",
    "from statsmodels.tools.eval_measures import mse, rmse\n",
    "from xgboost import XGBClassifier\n",
    "%matplotlib inline\n",
    "warnings.filterwarnings('ignore')"
   ]
  },
  {
   "cell_type": "code",
   "execution_count": 2,
   "metadata": {},
   "outputs": [],
   "source": [
    "#load our recently created cleaned datasets\n",
    "cards = pd.read_csv('D:/DSF Files/cards.txt', sep='\\t')\n",
    "recent_cards = pd.read_csv('D:/DSF Files/recentcards.txt', sep = '\\t')"
   ]
  },
  {
   "cell_type": "code",
   "execution_count": 3,
   "metadata": {},
   "outputs": [
    {
     "data": {
      "text/html": [
       "<div>\n",
       "<style scoped>\n",
       "    .dataframe tbody tr th:only-of-type {\n",
       "        vertical-align: middle;\n",
       "    }\n",
       "\n",
       "    .dataframe tbody tr th {\n",
       "        vertical-align: top;\n",
       "    }\n",
       "\n",
       "    .dataframe thead th {\n",
       "        text-align: right;\n",
       "    }\n",
       "</style>\n",
       "<table border=\"1\" class=\"dataframe\">\n",
       "  <thead>\n",
       "    <tr style=\"text-align: right;\">\n",
       "      <th></th>\n",
       "      <th>White</th>\n",
       "      <th>Blue</th>\n",
       "      <th>Black</th>\n",
       "      <th>Red</th>\n",
       "      <th>Green</th>\n",
       "      <th>Uncommon</th>\n",
       "      <th>Rare</th>\n",
       "      <th>Mythic</th>\n",
       "      <th>Converted Mana Cost</th>\n",
       "      <th>Specific Mana Cost</th>\n",
       "      <th>Power</th>\n",
       "      <th>Toughness</th>\n",
       "      <th>Legendary</th>\n",
       "      <th>EG Keywords</th>\n",
       "      <th>Set Keywords</th>\n",
       "    </tr>\n",
       "  </thead>\n",
       "  <tbody>\n",
       "    <tr>\n",
       "      <th>0</th>\n",
       "      <td>1</td>\n",
       "      <td>0</td>\n",
       "      <td>0</td>\n",
       "      <td>0</td>\n",
       "      <td>0</td>\n",
       "      <td>1</td>\n",
       "      <td>0</td>\n",
       "      <td>0</td>\n",
       "      <td>7</td>\n",
       "      <td>2</td>\n",
       "      <td>4</td>\n",
       "      <td>4</td>\n",
       "      <td>0</td>\n",
       "      <td>1</td>\n",
       "      <td>0</td>\n",
       "    </tr>\n",
       "    <tr>\n",
       "      <th>1</th>\n",
       "      <td>1</td>\n",
       "      <td>0</td>\n",
       "      <td>0</td>\n",
       "      <td>0</td>\n",
       "      <td>0</td>\n",
       "      <td>1</td>\n",
       "      <td>0</td>\n",
       "      <td>0</td>\n",
       "      <td>5</td>\n",
       "      <td>1</td>\n",
       "      <td>3</td>\n",
       "      <td>3</td>\n",
       "      <td>0</td>\n",
       "      <td>1</td>\n",
       "      <td>0</td>\n",
       "    </tr>\n",
       "    <tr>\n",
       "      <th>2</th>\n",
       "      <td>1</td>\n",
       "      <td>0</td>\n",
       "      <td>0</td>\n",
       "      <td>0</td>\n",
       "      <td>0</td>\n",
       "      <td>0</td>\n",
       "      <td>0</td>\n",
       "      <td>0</td>\n",
       "      <td>4</td>\n",
       "      <td>1</td>\n",
       "      <td>2</td>\n",
       "      <td>2</td>\n",
       "      <td>0</td>\n",
       "      <td>1</td>\n",
       "      <td>0</td>\n",
       "    </tr>\n",
       "    <tr>\n",
       "      <th>3</th>\n",
       "      <td>1</td>\n",
       "      <td>0</td>\n",
       "      <td>0</td>\n",
       "      <td>0</td>\n",
       "      <td>0</td>\n",
       "      <td>1</td>\n",
       "      <td>0</td>\n",
       "      <td>0</td>\n",
       "      <td>4</td>\n",
       "      <td>1</td>\n",
       "      <td>2</td>\n",
       "      <td>2</td>\n",
       "      <td>0</td>\n",
       "      <td>0</td>\n",
       "      <td>0</td>\n",
       "    </tr>\n",
       "    <tr>\n",
       "      <th>4</th>\n",
       "      <td>1</td>\n",
       "      <td>0</td>\n",
       "      <td>0</td>\n",
       "      <td>0</td>\n",
       "      <td>0</td>\n",
       "      <td>0</td>\n",
       "      <td>0</td>\n",
       "      <td>0</td>\n",
       "      <td>3</td>\n",
       "      <td>1</td>\n",
       "      <td>2</td>\n",
       "      <td>2</td>\n",
       "      <td>0</td>\n",
       "      <td>2</td>\n",
       "      <td>0</td>\n",
       "    </tr>\n",
       "  </tbody>\n",
       "</table>\n",
       "</div>"
      ],
      "text/plain": [
       "   White  Blue  Black  Red  Green  Uncommon  Rare  Mythic  \\\n",
       "0      1     0      0    0      0         1     0       0   \n",
       "1      1     0      0    0      0         1     0       0   \n",
       "2      1     0      0    0      0         0     0       0   \n",
       "3      1     0      0    0      0         1     0       0   \n",
       "4      1     0      0    0      0         0     0       0   \n",
       "\n",
       "   Converted Mana Cost  Specific Mana Cost  Power  Toughness  Legendary  \\\n",
       "0                    7                   2      4          4          0   \n",
       "1                    5                   1      3          3          0   \n",
       "2                    4                   1      2          2          0   \n",
       "3                    4                   1      2          2          0   \n",
       "4                    3                   1      2          2          0   \n",
       "\n",
       "   EG Keywords  Set Keywords  \n",
       "0            1             0  \n",
       "1            1             0  \n",
       "2            1             0  \n",
       "3            0             0  \n",
       "4            2             0  "
      ]
     },
     "execution_count": 3,
     "metadata": {},
     "output_type": "execute_result"
    }
   ],
   "source": [
    "#I'll be using the full cards list to test these so we'll call the\n",
    "#head and the info to confirm the data loaded as needed\n",
    "cards.head()"
   ]
  },
  {
   "cell_type": "code",
   "execution_count": 4,
   "metadata": {},
   "outputs": [
    {
     "name": "stdout",
     "output_type": "stream",
     "text": [
      "<class 'pandas.core.frame.DataFrame'>\n",
      "RangeIndex: 25032 entries, 0 to 25031\n",
      "Data columns (total 15 columns):\n",
      " #   Column               Non-Null Count  Dtype\n",
      "---  ------               --------------  -----\n",
      " 0   White                25032 non-null  int64\n",
      " 1   Blue                 25032 non-null  int64\n",
      " 2   Black                25032 non-null  int64\n",
      " 3   Red                  25032 non-null  int64\n",
      " 4   Green                25032 non-null  int64\n",
      " 5   Uncommon             25032 non-null  int64\n",
      " 6   Rare                 25032 non-null  int64\n",
      " 7   Mythic               25032 non-null  int64\n",
      " 8   Converted Mana Cost  25032 non-null  int64\n",
      " 9   Specific Mana Cost   25032 non-null  int64\n",
      " 10  Power                25032 non-null  int64\n",
      " 11  Toughness            25032 non-null  int64\n",
      " 12  Legendary            25032 non-null  int64\n",
      " 13  EG Keywords          25032 non-null  int64\n",
      " 14  Set Keywords         25032 non-null  int64\n",
      "dtypes: int64(15)\n",
      "memory usage: 2.9 MB\n"
     ]
    },
    {
     "data": {
      "text/plain": [
       "None"
      ]
     },
     "metadata": {},
     "output_type": "display_data"
    }
   ],
   "source": [
    "display(cards.info())"
   ]
  },
  {
   "cell_type": "code",
   "execution_count": 5,
   "metadata": {},
   "outputs": [],
   "source": [
    "#I previously made these functions to quickly call the modeling method\n",
    "#to compare them all quickly. we'll test them below\n",
    "\n",
    "def tuning():\n",
    "    y = cards['Power']\n",
    "    X = cards.drop(['Power'], axis=1)\n",
    "    X = sm.add_constant(X)\n",
    "    results = sm.OLS(y, X).fit()\n",
    "    print(results.summary())\n",
    "\n",
    "def lrm_test():\n",
    "    y = cards['Power']\n",
    "    X = cards.drop(['Power', 'Toughness'], axis=1)\n",
    "    X_train, X_test, y_train, y_test = train_test_split(X, y, test_size=0.2, random_state=357)\n",
    "    X_train = sm.add_constant(X_train)\n",
    "    X_test = sm.add_constant(X_test)\n",
    "    lr = LinearRegression()\n",
    "    lr.fit(X_train, y_train)\n",
    "    y_train_predictions = lr.predict(X_train)\n",
    "    y_test_predictions = lr.predict(X_test)\n",
    "    print('OLS Regression')\n",
    "    print(\"R-squared of the model in the training set is: {}\".format(lr.score(X_train, y_train)))\n",
    "    print(\"R-squared of the model in the test set is: {}\".format(lr.score(X_test, y_test)))\n",
    "    print(\"\\nMean absolute error of the prediction is: {}\".format(mean_absolute_error(y_test, y_test_predictions)))\n",
    "    print(\"Mean squared error of the prediction is: {:3e}\".format(mse(y_test, y_test_predictions)))\n",
    "    print(\"Root mean squared error of the prediction is: {}\".format(rmse(y_test, y_test_predictions)))\n",
    "    print(\"Mean absolute percentage error of the prediction is: {}\".format(np.mean(np.abs((y_test - y_test_predictions) / y_test)) * 100))\n",
    "    \n",
    "def lasso_test():\n",
    "    y = cards['Power']\n",
    "    X = cards.drop(['Power', 'Toughness'], axis=1)\n",
    "    X_train, X_test, y_train, y_test = train_test_split(X, y, test_size=0.2, random_state=357)\n",
    "    X_train = sm.add_constant(X_train)\n",
    "    X_test = sm.add_constant(X_test)\n",
    "    lr = LassoCV(cv=10)\n",
    "    lr.fit(X_train, y_train)\n",
    "    y_train_predictions = lr.predict(X_train)\n",
    "    y_test_predictions = lr.predict(X_test)\n",
    "    print(\"R-squared of the model in the training set is: {}\".format(lr.score(X_train, y_train)))\n",
    "    print(\"R-squared of the model in the test set is: {}\".format(lr.score(X_test, y_test)))\n",
    "    print(\"\\nMean absolute error of the prediction is: {}\".format(mean_absolute_error(y_test, y_test_predictions)))\n",
    "    print(\"Mean squared error of the prediction is: {:3e}\".format(mse(y_test, y_test_predictions)))\n",
    "    print(\"Root mean squared error of the prediction is: {}\".format(rmse(y_test, y_test_predictions)))\n",
    "    print(\"Mean absolute percentage error of the prediction is: {}\".format(np.mean(np.abs((y_test - y_test_predictions) / y_test)) * 100))\n",
    "\n",
    "def ridge_test():\n",
    "    y = cards['Power']\n",
    "    X = cards.drop(['Power', 'Toughness'], axis=1)\n",
    "    X_train, X_test, y_train, y_test = train_test_split(X, y, test_size=0.2, random_state=357)\n",
    "    X_train = sm.add_constant(X_train)\n",
    "    X_test = sm.add_constant(X_test)\n",
    "    lr = RidgeCV(cv=10)\n",
    "    lr.fit(X_train, y_train)\n",
    "    y_train_predictions = lr.predict(X_train)\n",
    "    y_test_predictions = lr.predict(X_test)\n",
    "    print('Ridge Regression')\n",
    "    print(\"R-squared of the model in the training set is: {}\".format(lr.score(X_train, y_train)))\n",
    "    print(\"R-squared of the model in the test set is: {}\".format(lr.score(X_test, y_test)))\n",
    "    print(\"\\nMean absolute error of the prediction is: {}\".format(mean_absolute_error(y_test, y_test_predictions)))\n",
    "    print(\"Mean squared error of the prediction is: {:3e}\".format(mse(y_test, y_test_predictions)))\n",
    "    print(\"Root mean squared error of the prediction is: {}\".format(rmse(y_test, y_test_predictions)))\n",
    "    print(\"Mean absolute percentage error of the prediction is: {}\".format(np.mean(np.abs((y_test - y_test_predictions) / y_test)) * 100))\n",
    "    \n",
    "def en_test():\n",
    "    y = cards['Power']\n",
    "    X = cards.drop(['Power', 'Toughness'], axis=1)\n",
    "    X_train, X_test, y_train, y_test = train_test_split(X, y, test_size=0.2, random_state=357)\n",
    "    X_train = sm.add_constant(X_train)\n",
    "    X_test = sm.add_constant(X_test)\n",
    "    lr = ElasticNetCV(cv=10)\n",
    "    lr.fit(X_train, y_train)\n",
    "    y_train_predictions = lr.predict(X_train)\n",
    "    y_test_predictions = lr.predict(X_test)\n",
    "    print('Elastic Net Regression')\n",
    "    print(\"R-squared of the model in the training set is: {}\".format(lr.score(X_train, y_train)))\n",
    "    print(\"R-squared of the model in the test set is: {}\".format(lr.score(X_test, y_test)))\n",
    "    print(\"\\nMean absolute error of the prediction is: {}\".format(mean_absolute_error(y_test, y_test_predictions)))\n",
    "    print(\"Mean squared error of the prediction is: {:3e}\".format(mse(y_test, y_test_predictions)))\n",
    "    print(\"Root mean squared error of the prediction is: {}\".format(rmse(y_test, y_test_predictions)))\n",
    "    print(\"Mean absolute percentage error of the prediction is: {}\".format(np.mean(np.abs((y_test - y_test_predictions) / y_test)) * 100))\n",
    "\n",
    "def lr_test(iter):\n",
    "    y = cards['Power']\n",
    "    X = cards.drop(['Power'], axis=1)\n",
    "    X_train, X_test, y_train, y_test = train_test_split(X, y, test_size=0.2, random_state=357)\n",
    "    X_train = sm.add_constant(X_train)\n",
    "    X_test = sm.add_constant(X_test)\n",
    "    lr = LogisticRegression(solver='lbfgs', penalty='l2', max_iter=iter)\n",
    "    lr.fit(X_train, y_train)\n",
    "    y_train_predictions = lr.predict(X_train)\n",
    "    y_test_predictions = lr.predict(X_test)\n",
    "    print('Logistic Regression')\n",
    "    print(\"R-squared of the model in the training set is: {}\".format(lr.score(X_train, y_train)))\n",
    "    print(\"R-squared of the model in the test set is: {}\".format(lr.score(X_test, y_test)))\n",
    "    print(\"\\nMean absolute error of the prediction is: {}\".format(mean_absolute_error(y_test, y_test_predictions)))\n",
    "    print(\"Mean squared error of the prediction is: {:3e}\".format(mse(y_test, y_test_predictions)))\n",
    "    print(\"Root mean squared error of the prediction is: {}\".format(rmse(y_test, y_test_predictions)))\n",
    "    print(\"Mean absolute percentage error of the prediction is: {}\".format(np.mean(np.abs((y_test - y_test_predictions) / y_test)) * 100))\n",
    "\n",
    "def rfc():\n",
    "    y = cards['Power']\n",
    "    X = cards.drop(['Power'], axis=1)\n",
    "    rfc = ensemble.RandomForestClassifier()\n",
    "    print('Random Forest Classifier')\n",
    "    print(cross_val_score(rfc, X, y, cv=10))\n",
    "\n",
    "def KNNc(n):\n",
    "    y = cards['Power']\n",
    "    X = cards.drop(['Power'], axis=1)\n",
    "    KNNc = KNeighborsClassifier(n_neighbors = n)\n",
    "    print('K-Nearest Neighbors Classifier')\n",
    "    print(cross_val_score(KNNc, X, y, cv=10))\n",
    "    \n",
    "def KNNr(n):\n",
    "    y = cards['Power']\n",
    "    X = cards.drop(['Power'], axis=1)\n",
    "    KNNr = KNeighborsRegressor(n_neighbors = n)\n",
    "    KNNr.fit(X, y)\n",
    "    print('K-Nearest Neighbors Regression')\n",
    "    print(cross_val_score(KNNr, X, y, cv=10))\n",
    "    \n",
    "def SVC():\n",
    "    y = cards['Power']\n",
    "    X = cards.drop(['Power'], axis=1)\n",
    "    svc = SVC()\n",
    "    svc.fit(X, y)\n",
    "    print(svc.score(X, y))\n",
    "\n",
    "def LinearSVC():\n",
    "    y = cards['Power']\n",
    "    X = cards.drop(['Power'], axis=1)\n",
    "    lsvc = LinearSVC()\n",
    "    lsvc.fit(X, y)\n",
    "    print(lsvc.score(X, y))\n",
    "\n",
    "def SVR():\n",
    "    y = cards['Power']\n",
    "    X = cards.drop(['Power'], axis=1)\n",
    "    svr = SVR()\n",
    "    svr.fit(X, y)\n",
    "    print(svr.score(X, y))\n",
    "\n",
    "def d_tree(depth):\n",
    "    y = cards['Power']\n",
    "    X = cards.drop(['Power', 'Toughness'], axis=1)\n",
    "    decision_tree = DecisionTreeRegressor(max_depth=depth)\n",
    "    decision_tree.fit(X, y)\n",
    "    print(decision_tree.score(X, y))\n",
    "    score = cross_val_score(decision_tree, X, y, cv=10)\n",
    "    print(score)\n",
    "\n",
    "def d_tree_boosted(depth):\n",
    "    predictions = pd.DataFrame()\n",
    "    y = cards['Power']\n",
    "    X = cards.drop(['Power', 'Toughness'], axis=1)\n",
    "    for n in range(0, 100):\n",
    "        decision_tree = DecisionTreeRegressor(max_depth=depth)\n",
    "        decision_tree.fit(X, y)\n",
    "        predict = decision_tree.predict(X)\n",
    "        predictions['predictions {}'.format(n)] = predict\n",
    "        y = y - predict\n",
    "        if n % 20 == 0:\n",
    "            print(decision_tree.score(X, y))\n",
    "    predicted = predictions.sum(axis=1)\n",
    "    print(np.corrcoef(cards['Power'], predicted)[0, 1])\n",
    "    \n",
    "def xgboost():\n",
    "    y = cards['Power']\n",
    "    X = cards.drop(['Power'], axis=1)\n",
    "    X_train, X_test, y_train, y_test = train_test_split(X, y, test_size=0.2, random_state=357)\n",
    "    X_train = sm.add_constant(X_train)\n",
    "    X_test = sm.add_constant(X_test)\n",
    "    lr = XGBClassifier()\n",
    "    lr.fit(X_train, y_train)\n",
    "    y_train_predictions = lr.predict(X_train)\n",
    "    y_test_predictions = lr.predict(X_test)\n",
    "    print('XGBoost Classifier')\n",
    "    print(\"R-squared of the model in the training set is: {}\".format(lr.score(X_train, y_train)))\n",
    "    print(\"R-squared of the model in the test set is: {}\".format(lr.score(X_test, y_test)))\n",
    "    print(\"\\nMean absolute error of the prediction is: {}\".format(mean_absolute_error(y_test, y_test_predictions)))\n",
    "    print(\"Mean squared error of the prediction is: {:3e}\".format(mse(y_test, y_test_predictions)))\n",
    "    print(\"Root mean squared error of the prediction is: {}\".format(rmse(y_test, y_test_predictions)))\n",
    "    print(\"Mean absolute percentage error of the prediction is: {}\".format(np.mean(np.abs((y_test - y_test_predictions) / y_test)) * 100))"
   ]
  },
  {
   "cell_type": "code",
   "execution_count": 6,
   "metadata": {},
   "outputs": [
    {
     "name": "stdout",
     "output_type": "stream",
     "text": [
      "                            OLS Regression Results                            \n",
      "==============================================================================\n",
      "Dep. Variable:                  Power   R-squared:                       0.650\n",
      "Model:                            OLS   Adj. R-squared:                  0.650\n",
      "Method:                 Least Squares   F-statistic:                     3324.\n",
      "Date:                Fri, 19 Feb 2021   Prob (F-statistic):               0.00\n",
      "Time:                        22:06:12   Log-Likelihood:                -36956.\n",
      "No. Observations:               25032   AIC:                         7.394e+04\n",
      "Df Residuals:                   25017   BIC:                         7.406e+04\n",
      "Df Model:                          14                                         \n",
      "Covariance Type:            nonrobust                                         \n",
      "=======================================================================================\n",
      "                          coef    std err          t      P>|t|      [0.025      0.975]\n",
      "---------------------------------------------------------------------------------------\n",
      "const                  -0.2794      0.022    -12.667      0.000      -0.323      -0.236\n",
      "White                  -0.2467      0.022    -11.357      0.000      -0.289      -0.204\n",
      "Blue                   -0.3653      0.022    -16.777      0.000      -0.408      -0.323\n",
      "Black                   0.0425      0.022      1.918      0.055      -0.001       0.086\n",
      "Red                     0.1775      0.022      8.158      0.000       0.135       0.220\n",
      "Green                   0.0402      0.021      1.882      0.060      -0.002       0.082\n",
      "Uncommon               -0.1121      0.017     -6.456      0.000      -0.146      -0.078\n",
      "Rare                    0.0313      0.018      1.705      0.088      -0.005       0.067\n",
      "Mythic                  0.2224      0.033      6.668      0.000       0.157       0.288\n",
      "Converted Mana Cost     0.3923      0.006     70.149      0.000       0.381       0.403\n",
      "Specific Mana Cost      0.2055      0.012     16.456      0.000       0.181       0.230\n",
      "Toughness               0.4221      0.005     78.510      0.000       0.412       0.433\n",
      "Legendary              -0.0721      0.025     -2.852      0.004      -0.122      -0.023\n",
      "EG Keywords             0.0444      0.010      4.332      0.000       0.024       0.064\n",
      "Set Keywords            0.1184      0.017      7.150      0.000       0.086       0.151\n",
      "==============================================================================\n",
      "Omnibus:                     2588.517   Durbin-Watson:                   1.861\n",
      "Prob(Omnibus):                  0.000   Jarque-Bera (JB):            17840.828\n",
      "Skew:                          -0.246   Prob(JB):                         0.00\n",
      "Kurtosis:                       7.107   Cond. No.                         34.7\n",
      "==============================================================================\n",
      "\n",
      "Warnings:\n",
      "[1] Standard Errors assume that the covariance matrix of the errors is correctly specified.\n"
     ]
    }
   ],
   "source": [
    "#a quick OLS to see what variables are important\n",
    "tuning()"
   ]
  },
  {
   "cell_type": "code",
   "execution_count": 7,
   "metadata": {},
   "outputs": [
    {
     "name": "stdout",
     "output_type": "stream",
     "text": [
      "Logistic Regression\n",
      "R-squared of the model in the training set is: 0.4745568039950062\n",
      "R-squared of the model in the test set is: 0.4531655682045137\n",
      "\n",
      "Mean absolute error of the prediction is: 0.7187936888356301\n",
      "Mean squared error of the prediction is: 1.231276e+00\n",
      "Root mean squared error of the prediction is: 1.1096288628642363\n",
      "Mean absolute percentage error of the prediction is: inf\n"
     ]
    }
   ],
   "source": [
    "lr_test(5000)"
   ]
  },
  {
   "cell_type": "code",
   "execution_count": 8,
   "metadata": {},
   "outputs": [
    {
     "name": "stdout",
     "output_type": "stream",
     "text": [
      "Random Forest Classifier\n",
      "[0.78554313 0.77036741 0.73232121 0.72632841 0.7087495  0.7223332\n",
      " 0.7107471  0.8174191  0.73232121 0.68837395]\n"
     ]
    }
   ],
   "source": [
    "rfc()"
   ]
  },
  {
   "cell_type": "code",
   "execution_count": 9,
   "metadata": {},
   "outputs": [
    {
     "name": "stdout",
     "output_type": "stream",
     "text": [
      "K-Nearest Neighbors Classifier\n",
      "[0.72004792 0.67851438 0.6504195  0.62365162 0.62085497 0.63483819\n",
      " 0.61925689 0.64322813 0.63044347 0.62165402]\n"
     ]
    }
   ],
   "source": [
    "KNNc(10)"
   ]
  },
  {
   "cell_type": "code",
   "execution_count": 10,
   "metadata": {},
   "outputs": [
    {
     "name": "stdout",
     "output_type": "stream",
     "text": [
      "K-Nearest Neighbors Regression\n",
      "[0.80161039 0.80286016 0.76836615 0.74339861 0.76156796 0.77120117\n",
      " 0.77899983 0.82618119 0.76598143 0.7551057 ]\n"
     ]
    }
   ],
   "source": [
    "KNNr(10)"
   ]
  },
  {
   "cell_type": "code",
   "execution_count": 11,
   "metadata": {},
   "outputs": [
    {
     "name": "stdout",
     "output_type": "stream",
     "text": [
      "[22:07:20] WARNING: C:/Users/Administrator/workspace/xgboost-win64_release_1.3.0/src/learner.cc:1061: Starting in XGBoost 1.3.0, the default evaluation metric used with the objective 'multi:softprob' was changed from 'merror' to 'mlogloss'. Explicitly set eval_metric if you'd like to restore the old behavior.\n",
      "XGBoost Classifier\n",
      "R-squared of the model in the training set is: 0.7633957553058677\n",
      "R-squared of the model in the test set is: 0.7098062712202916\n",
      "\n",
      "Mean absolute error of the prediction is: 0.39524665468344317\n",
      "Mean squared error of the prediction is: 6.916317e-01\n",
      "Root mean squared error of the prediction is: 0.8316439836842221\n",
      "Mean absolute percentage error of the prediction is: inf\n"
     ]
    }
   ],
   "source": [
    "xgboost()"
   ]
  },
  {
   "cell_type": "code",
   "execution_count": 12,
   "metadata": {},
   "outputs": [
    {
     "name": "stdout",
     "output_type": "stream",
     "text": [
      "OLS Regression\n",
      "R-squared of the model in the training set is: 0.564158708661681\n",
      "R-squared of the model in the test set is: 0.5642082722702435\n",
      "\n",
      "Mean absolute error of the prediction is: 0.8594936160674702\n",
      "Mean squared error of the prediction is: 1.386844e+00\n",
      "Root mean squared error of the prediction is: 1.1776432270593646\n",
      "Mean absolute percentage error of the prediction is: inf\n"
     ]
    }
   ],
   "source": [
    "lrm_test()"
   ]
  },
  {
   "cell_type": "code",
   "execution_count": 13,
   "metadata": {},
   "outputs": [
    {
     "name": "stdout",
     "output_type": "stream",
     "text": [
      "Ridge Regression\n",
      "R-squared of the model in the training set is: 0.564157884169622\n",
      "R-squared of the model in the test set is: 0.5642062358049877\n",
      "\n",
      "Mean absolute error of the prediction is: 0.8594932089617829\n",
      "Mean squared error of the prediction is: 1.386850e+00\n",
      "Root mean squared error of the prediction is: 1.1776459786337534\n",
      "Mean absolute percentage error of the prediction is: inf\n"
     ]
    }
   ],
   "source": [
    "ridge_test()"
   ]
  },
  {
   "cell_type": "code",
   "execution_count": 14,
   "metadata": {},
   "outputs": [
    {
     "name": "stdout",
     "output_type": "stream",
     "text": [
      "R-squared of the model in the training set is: 0.564037404566766\n",
      "R-squared of the model in the test set is: 0.5640456635950224\n",
      "\n",
      "Mean absolute error of the prediction is: 0.8598278542345921\n",
      "Mean squared error of the prediction is: 1.387361e+00\n",
      "Root mean squared error of the prediction is: 1.1778629158841665\n",
      "Mean absolute percentage error of the prediction is: inf\n"
     ]
    }
   ],
   "source": [
    "lasso_test()"
   ]
  },
  {
   "cell_type": "code",
   "execution_count": 15,
   "metadata": {},
   "outputs": [
    {
     "name": "stdout",
     "output_type": "stream",
     "text": [
      "Elastic Net Regression\n",
      "R-squared of the model in the training set is: 0.5639619464921295\n",
      "R-squared of the model in the test set is: 0.5639675028577186\n",
      "\n",
      "Mean absolute error of the prediction is: 0.859909316132676\n",
      "Mean squared error of the prediction is: 1.387610e+00\n",
      "Root mean squared error of the prediction is: 1.1779684986255607\n",
      "Mean absolute percentage error of the prediction is: inf\n"
     ]
    }
   ],
   "source": [
    "en_test()"
   ]
  },
  {
   "cell_type": "code",
   "execution_count": 16,
   "metadata": {},
   "outputs": [
    {
     "name": "stdout",
     "output_type": "stream",
     "text": [
      "0.5685574463125451\n",
      "[0.55128338 0.56956256 0.54481282 0.55325762 0.55851601 0.58900487\n",
      " 0.53796622 0.58110849 0.55956885 0.54090272]\n"
     ]
    }
   ],
   "source": [
    "d_tree(4)"
   ]
  },
  {
   "cell_type": "code",
   "execution_count": 17,
   "metadata": {},
   "outputs": [
    {
     "name": "stdout",
     "output_type": "stream",
     "text": [
      "-6.298959526966144\n",
      "-0.0033672976909093766\n",
      "-0.0005400039636804799\n",
      "-0.00045538619612472964\n",
      "-0.000946253700470745\n",
      "0.8287712484851347\n"
     ]
    }
   ],
   "source": [
    "d_tree_boosted(4)"
   ]
  },
  {
   "cell_type": "code",
   "execution_count": 18,
   "metadata": {},
   "outputs": [
    {
     "data": {
      "image/png": "[encoded data removed]",
      "text/plain": [
       "<Figure size 720x720 with 4 Axes>"
      ]
     },
     "metadata": {
      "needs_background": "light"
     },
     "output_type": "display_data"
    },
    {
     "name": "stdout",
     "output_type": "stream",
     "text": [
      "All Cards Power\n",
      "Jarque-Bera test statistics is 19115.692674720853 and p value is 0.0\n",
      "Normality test statistics is 6489.25986333034 and p value is 0.0\n",
      "All Cards Toughness\n",
      "Jarque-Bera test statistics is 23721.144458643732 and p value is 0.0\n",
      "Normality test statistics is 6907.007496477227 and p value is 0.0\n",
      "Recent Cards Power\n",
      "Jarque-Bera test statistics is 1262.878561346418 and p value is 0.0\n",
      "Normality test statistics is 459.22864491561324 and p value is 1.9044377898787476e-100\n",
      "Recent Cards Toughness\n",
      "Jarque-Bera test statistics is 6708.355469708132 and p value is 0.0\n",
      "Normality test statistics is 811.7869657453906 and p value is 5.28080520612354e-177\n"
     ]
    }
   ],
   "source": [
    "plt.figure(figsize=(10,10))\n",
    "plt.subplot(2, 2, 1)\n",
    "plt.hist(cards['Power'])\n",
    "plt.title('All Cards Power')\n",
    "\n",
    "plt.subplot(2, 2, 2)\n",
    "plt.hist(cards['Toughness'])\n",
    "plt.title('All Cards Toughness')\n",
    "\n",
    "plt.subplot(2, 2, 3)\n",
    "plt.hist(recent_cards['Power'])\n",
    "plt.title('Recent Cards Power')\n",
    "\n",
    "plt.subplot(2, 2, 4)\n",
    "plt.hist(recent_cards['Toughness'])\n",
    "plt.title('Recent Cards Toughness')\n",
    "plt.show()\n",
    "\n",
    "jb_stats = jarque_bera(cards['Power'])\n",
    "norm_stats = normaltest(cards['Power'])\n",
    "\n",
    "print(\"All Cards Power\")\n",
    "print(\"Jarque-Bera test statistics is {0} and p value is {1}\".format(jb_stats[0], jb_stats[1]))\n",
    "print(\"Normality test statistics is {0} and p value is {1}\".format(norm_stats[0], norm_stats[1]))\n",
    "\n",
    "jb_stats = jarque_bera(cards['Toughness'])\n",
    "norm_stats = normaltest(cards['Toughness'])\n",
    "\n",
    "print(\"All Cards Toughness\")\n",
    "print(\"Jarque-Bera test statistics is {0} and p value is {1}\".format(jb_stats[0], jb_stats[1]))\n",
    "print(\"Normality test statistics is {0} and p value is {1}\".format(norm_stats[0], norm_stats[1]))\n",
    "\n",
    "print(\"Recent Cards Power\")\n",
    "jb_stats = jarque_bera(recent_cards['Power'])\n",
    "norm_stats = normaltest(recent_cards['Power'])\n",
    "\n",
    "print(\"Jarque-Bera test statistics is {0} and p value is {1}\".format(jb_stats[0], jb_stats[1]))\n",
    "print(\"Normality test statistics is {0} and p value is {1}\".format(norm_stats[0], norm_stats[1]))\n",
    "\n",
    "print(\"Recent Cards Toughness\")\n",
    "jb_stats = jarque_bera(recent_cards['Toughness'])\n",
    "norm_stats = normaltest(recent_cards['Toughness'])\n",
    "\n",
    "print(\"Jarque-Bera test statistics is {0} and p value is {1}\".format(jb_stats[0], jb_stats[1]))\n",
    "print(\"Normality test statistics is {0} and p value is {1}\".format(norm_stats[0], norm_stats[1]))"
   ]
  },
  {
   "cell_type": "markdown",
   "metadata": {},
   "source": [
    "Both the histograms and the Jarque-Bera and normality tests confirm that the data is not normally distributed. We'll attempt some data transformation.<br>\n",
    "As a note, some of the values for power and toughness are either negative integers or zero, so we'll drop all negative values (3 rows) and convert all zero values to 0.0001 to allow for the transformation."
   ]
  },
  {
   "cell_type": "code",
   "execution_count": 19,
   "metadata": {},
   "outputs": [
    {
     "data": {
      "image/png": "[encoded data removed]",
      "text/plain": [
       "<Figure size 720x720 with 4 Axes>"
      ]
     },
     "metadata": {
      "needs_background": "light"
     },
     "output_type": "display_data"
    },
    {
     "name": "stdout",
     "output_type": "stream",
     "text": [
      "None\n",
      "All Cards Power\n",
      "Jarque-Bera test statistics is 1441.6605596810048 and p value is 0.0\n",
      "Normality test statistics is 874.5659854557957 and p value is 1.2314285780173655e-190\n",
      "All Cards Toughness\n",
      "Jarque-Bera test statistics is 732.0896802160919 and p value is 0.0\n",
      "Normality test statistics is 376.9059427188453 and p value is 1.431905773992689e-82\n",
      "Recent Cards Power\n",
      "Jarque-Bera test statistics is 138.51956958018664 and p value is 0.0\n",
      "Normality test statistics is 82.28860341328578 and p value is 1.3528723072629497e-18\n",
      "Recent Cards Toughness\n",
      "Jarque-Bera test statistics is 223.8317972949073 and p value is 0.0\n",
      "Normality test statistics is 77.20257371575896 and p value is 1.7205770401470827e-17\n"
     ]
    }
   ],
   "source": [
    "cards = cards[cards['Power'] >= 0]\n",
    "cards = cards[cards['Toughness'] >= 0]\n",
    "recent_cards = recent_cards[recent_cards['Power'] >= 0]\n",
    "recent_cards = recent_cards[recent_cards['Toughness'] >= 0]\n",
    "\n",
    "cards['Power'] = np.where(cards['Power'] == 0, 0.0001, cards['Power'])\n",
    "cards['Toughness'] = np.where(cards['Toughness'] == 0, 0.0001, cards['Toughness'])\n",
    "recent_cards['Power'] = np.where(recent_cards['Power'] == 0, 0.0001, recent_cards['Power'])\n",
    "recent_cards['Toughness'] = np.where(recent_cards['Toughness'] == 0, 0.0001, recent_cards['Toughness'])\n",
    "\n",
    "cards_Power_boxcox,_ = boxcox(cards['Power'])\n",
    "cards_Toughness_boxcox,_ = boxcox(cards['Toughness'])\n",
    "recent_cards_Power_boxcox,_ = boxcox(recent_cards['Power'])\n",
    "recent_cards_Toughness_boxcox,_ = boxcox(recent_cards['Toughness'])\n",
    "\n",
    "plt.figure(figsize=(10,10))\n",
    "plt.subplot(2, 2, 1)\n",
    "plt.hist(cards_Power_boxcox)\n",
    "plt.title('All Cards Power (Box-Cox)')\n",
    "\n",
    "plt.subplot(2, 2, 2)\n",
    "plt.hist(cards_Toughness_boxcox)\n",
    "plt.title('All Cards Toughness (Box-Cox)')\n",
    "\n",
    "plt.subplot(2, 2, 3)\n",
    "plt.hist(recent_cards_Power_boxcox)\n",
    "plt.title('Recent Cards Power (Box-Cox)')\n",
    "\n",
    "plt.subplot(2, 2, 4)\n",
    "plt.hist(recent_cards_Toughness_boxcox)\n",
    "plt.title('Recent Cards Toughness (Box-Cox)')\n",
    "print(plt.show())\n",
    "\n",
    "jb_stats = jarque_bera(cards_Power_boxcox)\n",
    "norm_stats = normaltest(cards_Power_boxcox)\n",
    "\n",
    "print(\"All Cards Power\")\n",
    "print(\"Jarque-Bera test statistics is {0} and p value is {1}\".format(jb_stats[0], jb_stats[1]))\n",
    "print(\"Normality test statistics is {0} and p value is {1}\".format(norm_stats[0], norm_stats[1]))\n",
    "\n",
    "jb_stats = jarque_bera(cards_Toughness_boxcox)\n",
    "norm_stats = normaltest(cards_Toughness_boxcox)\n",
    "\n",
    "print(\"All Cards Toughness\")\n",
    "print(\"Jarque-Bera test statistics is {0} and p value is {1}\".format(jb_stats[0], jb_stats[1]))\n",
    "print(\"Normality test statistics is {0} and p value is {1}\".format(norm_stats[0], norm_stats[1]))\n",
    "\n",
    "print(\"Recent Cards Power\")\n",
    "jb_stats = jarque_bera(recent_cards_Power_boxcox)\n",
    "norm_stats = normaltest(recent_cards_Power_boxcox)\n",
    "\n",
    "print(\"Jarque-Bera test statistics is {0} and p value is {1}\".format(jb_stats[0], jb_stats[1]))\n",
    "print(\"Normality test statistics is {0} and p value is {1}\".format(norm_stats[0], norm_stats[1]))\n",
    "\n",
    "print(\"Recent Cards Toughness\")\n",
    "jb_stats = jarque_bera(recent_cards_Toughness_boxcox)\n",
    "norm_stats = normaltest(recent_cards_Toughness_boxcox)\n",
    "\n",
    "print(\"Jarque-Bera test statistics is {0} and p value is {1}\".format(jb_stats[0], jb_stats[1]))\n",
    "print(\"Normality test statistics is {0} and p value is {1}\".format(norm_stats[0], norm_stats[1]))"
   ]
  },
  {
   "cell_type": "markdown",
   "metadata": {},
   "source": [
    "The normality tests suggest that the data is now normally distributed though the Jarque-Bera does not. We'll run the tuning algorithm again to test."
   ]
  },
  {
   "cell_type": "code",
   "execution_count": null,
   "metadata": {},
   "outputs": [],
   "source": [
    "cards['Power'],_ = boxcox(cards['Power'])\n",
    "cards['Toughness'],_ = boxcox(cards['Toughness'])\n",
    "recent_cards['Power'],_ = boxcox(recent_cards['Power'])\n",
    "recent_cards['Toughness'],_ = boxcox(recent_cards['Toughness'])\n",
    "\n",
    "tuning()"
   ]
  },
  {
   "cell_type": "markdown",
   "metadata": {},
   "source": [
    "We'll call the unaltered dataset again and attempt windorizing the data to limit the effect of the outliers."
   ]
  },
  {
   "cell_type": "code",
   "execution_count": null,
   "metadata": {},
   "outputs": [],
   "source": [
    "cards = pd.read_csv('D:/DSF Files/cards.txt', sep='\\t')\n",
    "recent_cards = pd.read_csv('D:/DSF Files/recentcards.txt', sep = '\\t')"
   ]
  },
  {
   "cell_type": "code",
   "execution_count": null,
   "metadata": {},
   "outputs": [],
   "source": [
    "plt.figure(figsize=(10,10))\n",
    "plt.subplot(2, 2, 1)\n",
    "plt.boxplot(cards['Power'])\n",
    "plt.title('All Cards Power')\n",
    "\n",
    "plt.subplot(2, 2, 2)\n",
    "plt.boxplot(cards['Toughness'])\n",
    "plt.title('All Cards Toughness')\n",
    "\n",
    "plt.subplot(2, 2, 3)\n",
    "plt.boxplot(recent_cards['Power'])\n",
    "plt.title('Recent Cards Power')\n",
    "\n",
    "plt.subplot(2, 2, 4)\n",
    "plt.boxplot(recent_cards['Toughness'])\n",
    "plt.title('Recent Cards Toughness')\n",
    "plt.show()"
   ]
  },
  {
   "cell_type": "code",
   "execution_count": null,
   "metadata": {},
   "outputs": [],
   "source": [
    "#use a z-score with a threshold of four to find any outliers\n",
    "z_scores = zscore(cards['Power'])\n",
    "print(len(np.where(z_scores > 4)[0]))\n",
    "display(np.where(z_scores > 4)[0])\n",
    "z_scores = zscore(cards['Toughness'])\n",
    "print(len(np.where(z_scores > 4)[0]))\n",
    "display(np.where(z_scores > 4)[0])\n",
    "z_scores = zscore(recent_cards['Power'])\n",
    "print(len(np.where(z_scores > 4)[0]))\n",
    "display(np.where(z_scores > 4)[0])\n",
    "z_scores = zscore(recent_cards['Toughness'])\n",
    "print(len(np.where(z_scores > 4)[0]))\n",
    "display(np.where(z_scores > 4)[0])"
   ]
  },
  {
   "cell_type": "code",
   "execution_count": null,
   "metadata": {},
   "outputs": [],
   "source": [
    "win_cards_power = winsorize(cards['Power'], (0, 0.05))\n",
    "win_cards_toughness = winsorize(cards['Toughness'], (0, 0.05))\n",
    "win_recent_cards_power = winsorize(recent_cards['Power'], (0, 0.05))\n",
    "win_recent_cards_toughness = winsorize(recent_cards['Toughness'], (0, 0.05))\n",
    "\n",
    "plt.figure(figsize=(10,10))\n",
    "plt.subplot(2, 2, 1)\n",
    "plt.boxplot(win_cards_power)\n",
    "plt.title('All Cards Power')\n",
    "\n",
    "plt.subplot(2, 2, 2)\n",
    "plt.boxplot(win_cards_toughness)\n",
    "plt.title('All Cards Toughness')\n",
    "\n",
    "plt.subplot(2, 2, 3)\n",
    "plt.boxplot(win_recent_cards_power)\n",
    "plt.title('Recent Cards Power')\n",
    "\n",
    "plt.subplot(2, 2, 4)\n",
    "plt.boxplot(win_recent_cards_toughness)\n",
    "plt.title('Recent Cards Toughness')\n",
    "plt.show()"
   ]
  },
  {
   "cell_type": "code",
   "execution_count": null,
   "metadata": {},
   "outputs": [],
   "source": [
    "z_scores = zscore(win_cards_power)\n",
    "print(len(np.where(z_scores > 4)[0]))\n",
    "display(np.where(z_scores > 4)[0])\n",
    "z_scores = zscore(win_cards_toughness)\n",
    "print(len(np.where(z_scores > 4)[0]))\n",
    "display(np.where(z_scores > 4)[0])\n",
    "z_scores = zscore(win_recent_cards_power)\n",
    "print(len(np.where(z_scores > 4)[0]))\n",
    "display(np.where(z_scores > 4)[0])\n",
    "z_scores = zscore(win_recent_cards_toughness)\n",
    "print(len(np.where(z_scores > 4)[0]))\n",
    "display(np.where(z_scores > 4)[0])"
   ]
  },
  {
   "cell_type": "code",
   "execution_count": null,
   "metadata": {},
   "outputs": [],
   "source": [
    "cards['Power'] = win_cards_power\n",
    "cards['Toughness'] = win_cards_toughness\n",
    "recent_cards['Power'] = win_recent_cards_power\n",
    "recent_cards['Toughness'] = win_recent_cards_toughness\n",
    "\n",
    "plt.figure(figsize=(10,10))\n",
    "plt.subplot(2, 2, 1)\n",
    "plt.hist(cards['Power'])\n",
    "plt.title('All Cards Power')\n",
    "\n",
    "plt.subplot(2, 2, 2)\n",
    "plt.hist(cards['Toughness'])\n",
    "plt.title('All Cards Toughness')\n",
    "\n",
    "plt.subplot(2, 2, 3)\n",
    "plt.hist(recent_cards['Power'])\n",
    "plt.title('Recent Cards Power')\n",
    "\n",
    "plt.subplot(2, 2, 4)\n",
    "plt.hist(recent_cards['Toughness'])\n",
    "plt.title('Recent Cards Toughness')\n",
    "plt.show()\n",
    "\n",
    "jb_stats = jarque_bera(cards['Power'])\n",
    "norm_stats = normaltest(cards['Power'])\n",
    "\n",
    "print(\"All Cards Power\")\n",
    "print(\"Jarque-Bera test statistics is {0} and p value is {1}\".format(jb_stats[0], jb_stats[1]))\n",
    "print(\"Normality test statistics is {0} and p value is {1}\".format(norm_stats[0], norm_stats[1]))\n",
    "\n",
    "jb_stats = jarque_bera(cards['Toughness'])\n",
    "norm_stats = normaltest(cards['Toughness'])\n",
    "\n",
    "print(\"All Cards Toughness\")\n",
    "print(\"Jarque-Bera test statistics is {0} and p value is {1}\".format(jb_stats[0], jb_stats[1]))\n",
    "print(\"Normality test statistics is {0} and p value is {1}\".format(norm_stats[0], norm_stats[1]))\n",
    "\n",
    "print(\"Recent Cards Power\")\n",
    "jb_stats = jarque_bera(recent_cards['Power'])\n",
    "norm_stats = normaltest(recent_cards['Power'])\n",
    "\n",
    "print(\"Jarque-Bera test statistics is {0} and p value is {1}\".format(jb_stats[0], jb_stats[1]))\n",
    "print(\"Normality test statistics is {0} and p value is {1}\".format(norm_stats[0], norm_stats[1]))\n",
    "\n",
    "print(\"Recent Cards Toughness\")\n",
    "jb_stats = jarque_bera(recent_cards['Toughness'])\n",
    "norm_stats = normaltest(recent_cards['Toughness'])\n",
    "\n",
    "print(\"Jarque-Bera test statistics is {0} and p value is {1}\".format(jb_stats[0], jb_stats[1]))\n",
    "print(\"Normality test statistics is {0} and p value is {1}\".format(norm_stats[0], norm_stats[1]))"
   ]
  },
  {
   "cell_type": "markdown",
   "metadata": {},
   "source": [
    "A bit better but the data still isn't normalized. We'll check what the variables look like using the OLS and rerun the tests using the winsorized values."
   ]
  },
  {
   "cell_type": "code",
   "execution_count": null,
   "metadata": {},
   "outputs": [],
   "source": [
    "tuning()"
   ]
  },
  {
   "cell_type": "code",
   "execution_count": null,
   "metadata": {},
   "outputs": [],
   "source": [
    "lr_test(5000)"
   ]
  },
  {
   "cell_type": "code",
   "execution_count": null,
   "metadata": {},
   "outputs": [],
   "source": [
    "lrm_test()"
   ]
  },
  {
   "cell_type": "code",
   "execution_count": null,
   "metadata": {},
   "outputs": [],
   "source": [
    "lasso_test()"
   ]
  },
  {
   "cell_type": "code",
   "execution_count": null,
   "metadata": {},
   "outputs": [],
   "source": [
    "ridge_test()"
   ]
  },
  {
   "cell_type": "code",
   "execution_count": null,
   "metadata": {},
   "outputs": [],
   "source": [
    "en_test()"
   ]
  },
  {
   "cell_type": "code",
   "execution_count": null,
   "metadata": {},
   "outputs": [],
   "source": [
    "rfc()"
   ]
  },
  {
   "cell_type": "code",
   "execution_count": null,
   "metadata": {},
   "outputs": [],
   "source": [
    "KNNc(5)"
   ]
  },
  {
   "cell_type": "code",
   "execution_count": null,
   "metadata": {},
   "outputs": [],
   "source": [
    "KNNr(5)"
   ]
  },
  {
   "cell_type": "code",
   "execution_count": null,
   "metadata": {},
   "outputs": [],
   "source": [
    "xgboost()"
   ]
  },
  {
   "cell_type": "code",
   "execution_count": null,
   "metadata": {},
   "outputs": [],
   "source": [
    "d_tree(4)"
   ]
  },
  {
   "cell_type": "code",
   "execution_count": null,
   "metadata": {},
   "outputs": [],
   "source": [
    "d_tree_boosted(4)"
   ]
  },
  {
   "cell_type": "markdown",
   "metadata": {},
   "source": [
    "Based on these results, we'll use the boosted weak learner DecisionTreeRegressor."
   ]
  }
 ],
 "metadata": {
  "kernelspec": {
   "display_name": "Python 3",
   "language": "python",
   "name": "python3"
  },
  "language_info": {
   "codemirror_mode": {
    "name": "ipython",
    "version": 3
   },
   "file_extension": ".py",
   "mimetype": "text/x-python",
   "name": "python",
   "nbconvert_exporter": "python",
   "pygments_lexer": "ipython3",
   "version": "3.8.3"
  }
 },
 "nbformat": 4,
 "nbformat_minor": 4
}
