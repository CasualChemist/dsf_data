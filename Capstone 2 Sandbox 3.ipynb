{
 "cells": [
  {
   "cell_type": "markdown",
   "metadata": {},
   "source": [
    "Having decided on a model, we'll look into what all features can be targets."
   ]
  },
  {
   "cell_type": "code",
   "execution_count": 1,
   "metadata": {},
   "outputs": [],
   "source": [
    "#import the necessities\n",
    "import numpy as np\n",
    "import pandas as pd\n",
    "from sklearn.tree import DecisionTreeRegressor"
   ]
  },
  {
   "cell_type": "code",
   "execution_count": 2,
   "metadata": {},
   "outputs": [],
   "source": [
    "cards = pd.read_csv('D:/DSF Files/cards.txt', sep='\\t')\n",
    "recent_cards = pd.read_csv('D:/DSF Files/recentcards.txt', sep = '\\t')\n",
    "cards.name = 'Cards'\n",
    "recent_cards.name = 'Recent Cards'"
   ]
  },
  {
   "cell_type": "code",
   "execution_count": 3,
   "metadata": {},
   "outputs": [],
   "source": [
    "def d_tree_boosted(depth, data, target):\n",
    "    print('Data used from {} dataset.'.format(data.name))\n",
    "    predictions = pd.DataFrame()\n",
    "    y = data[target]\n",
    "    X = data.drop([target], axis=1)\n",
    "    for n in range(0, 101):\n",
    "        decision_tree = DecisionTreeRegressor(max_depth=depth)\n",
    "        decision_tree.fit(X, y)\n",
    "        predict = decision_tree.predict(X)\n",
    "        predictions['predictions {}'.format(n)] = predict\n",
    "        y = y - predict\n",
    "    predicted = predictions.sum(axis=1)\n",
    "    print(\"\\nOverall R^2 for {} after 100 iterations:\".format(target))\n",
    "    print(np.corrcoef(data[target], predicted)[0, 1])"
   ]
  },
  {
   "cell_type": "code",
   "execution_count": 4,
   "metadata": {},
   "outputs": [
    {
     "name": "stdout",
     "output_type": "stream",
     "text": [
      "Data used from Cards dataset.\n",
      "\n",
      "Overall R^2 for Power after 100 iterations:\n",
      "0.9040648813065324\n",
      "Data used from Cards dataset.\n",
      "\n",
      "Overall R^2 for Toughness after 100 iterations:\n",
      "0.8872318905480122\n",
      "Data used from Cards dataset.\n",
      "\n",
      "Overall R^2 for Legendary after 100 iterations:\n",
      "0.7433534979016426\n",
      "Data used from Cards dataset.\n",
      "\n",
      "Overall R^2 for Specific Mana Cost after 100 iterations:\n",
      "0.8555243715765988\n",
      "Data used from Cards dataset.\n",
      "\n",
      "Overall R^2 for EG Keywords after 100 iterations:\n",
      "0.6056016374339477\n",
      "Data used from Cards dataset.\n",
      "\n",
      "Overall R^2 for Set Keywords after 100 iterations:\n",
      "0.46695169682379195\n",
      "Data used from Cards dataset.\n",
      "\n",
      "Overall R^2 for Converted Mana Cost after 100 iterations:\n",
      "0.8741628513482467\n"
     ]
    }
   ],
   "source": [
    "d_tree_boosted(4, cards, 'Power')\n",
    "d_tree_boosted(4, cards, 'Toughness')\n",
    "d_tree_boosted(4, cards, 'Legendary')\n",
    "d_tree_boosted(4, cards, 'Specific Mana Cost')\n",
    "d_tree_boosted(4, cards, 'EG Keywords')\n",
    "d_tree_boosted(4, cards, 'Set Keywords')\n",
    "d_tree_boosted(4, cards, 'Converted Mana Cost')"
   ]
  },
  {
   "cell_type": "markdown",
   "metadata": {},
   "source": [
    "Power, Toughness, Specific Mana Cost, and Converted Mana Cost are over 80%, so we'll call those satisfactory. We'll remove those from the pool and attempt the others again to see what the results are then."
   ]
  },
  {
   "cell_type": "code",
   "execution_count": 5,
   "metadata": {},
   "outputs": [],
   "source": [
    "def cards_d_tree_boosted(depth, data, target):\n",
    "    print('Data used from {} dataset.'.format(data.name))\n",
    "    predictions = pd.DataFrame()\n",
    "    y = data[target]\n",
    "    X = data.drop([target, 'Power', 'Toughness', 'Specific Mana Cost', 'Converted Mana Cost'], axis=1)\n",
    "    for n in range(0, 101):\n",
    "        decision_tree = DecisionTreeRegressor(max_depth=depth)\n",
    "        decision_tree.fit(X, y)\n",
    "        predict = decision_tree.predict(X)\n",
    "        predictions['predictions {}'.format(n)] = predict\n",
    "        y = y - predict\n",
    "    predicted = predictions.sum(axis=1)\n",
    "    print(\"\\nOverall R^2 for {} after 100 iterations:\".format(target))\n",
    "    print(np.corrcoef(data[target], predicted)[0, 1])"
   ]
  },
  {
   "cell_type": "code",
   "execution_count": 6,
   "metadata": {},
   "outputs": [
    {
     "name": "stdout",
     "output_type": "stream",
     "text": [
      "Data used from Cards dataset.\n",
      "\n",
      "Overall R^2 for Power after 100 iterations:\n",
      "0.5040054727057118\n",
      "Data used from Cards dataset.\n",
      "\n",
      "Overall R^2 for Toughness after 100 iterations:\n",
      "0.4978563129151257\n",
      "Data used from Cards dataset.\n",
      "\n",
      "Overall R^2 for Legendary after 100 iterations:\n",
      "0.6222321909192879\n",
      "Data used from Cards dataset.\n",
      "\n",
      "Overall R^2 for Specific Mana Cost after 100 iterations:\n",
      "0.7577656945634124\n",
      "Data used from Cards dataset.\n",
      "\n",
      "Overall R^2 for EG Keywords after 100 iterations:\n",
      "0.3264210120153141\n",
      "Data used from Cards dataset.\n",
      "\n",
      "Overall R^2 for Set Keywords after 100 iterations:\n",
      "0.21414158565630198\n",
      "Data used from Cards dataset.\n",
      "\n",
      "Overall R^2 for Converted Mana Cost after 100 iterations:\n",
      "0.4853890008828523\n"
     ]
    }
   ],
   "source": [
    "cards_d_tree_boosted(4, cards, 'Power')\n",
    "cards_d_tree_boosted(4, cards, 'Toughness')\n",
    "cards_d_tree_boosted(4, cards, 'Legendary')\n",
    "cards_d_tree_boosted(4, cards, 'Specific Mana Cost')\n",
    "cards_d_tree_boosted(4, cards, 'EG Keywords')\n",
    "cards_d_tree_boosted(4, cards, 'Set Keywords')\n",
    "cards_d_tree_boosted(4, cards, 'Converted Mana Cost')"
   ]
  },
  {
   "cell_type": "markdown",
   "metadata": {},
   "source": [
    "Looks like even Converted Mana Cost requires some of the above features to be predicted. Because of this and the fact that card ratios tend not to differ from set to set, we'll keep Converted Mana Cost in as a feature and use Specific Mana Cost as a target. We'll run it through an interative loop adding a feature for each target once iteration of the loop has concluded."
   ]
  },
  {
   "cell_type": "code",
   "execution_count": 7,
   "metadata": {},
   "outputs": [],
   "source": [
    "def cards_d_tree_boosted(depth, data):\n",
    "    targets =  ['Specific Mana Cost', 'Power', 'Toughness']\n",
    "    attributes = ['Specific Mana Cost', 'Power', 'Toughness']\n",
    "    predictions = pd.DataFrame()\n",
    "    print('Decision Tree Regression')\n",
    "    for target in targets:\n",
    "        y = data[target]\n",
    "        X = data.drop(attributes, axis=1)\n",
    "        attributes.pop(0)\n",
    "        print('\\nThe results for {} as the target in the Decision Tree Regessor:'.format(target))\n",
    "        for n in range(0, 101):\n",
    "            decision_tree = DecisionTreeRegressor(max_depth=depth)\n",
    "            decision_tree.fit(X, y)\n",
    "            predict = decision_tree.predict(X)\n",
    "            predictions['predictions {}'.format(n)] = predict\n",
    "            y = y - predict\n",
    "        predicted = predictions.sum(axis=1)\n",
    "        print(np.corrcoef(data[target], predicted)[0, 1])"
   ]
  },
  {
   "cell_type": "code",
   "execution_count": 8,
   "metadata": {},
   "outputs": [
    {
     "name": "stdout",
     "output_type": "stream",
     "text": [
      "Decision Tree Regression\n",
      "\n",
      "The results for Specific Mana Cost as the target in the Decision Tree Regessor:\n",
      "0.822506602587629\n",
      "\n",
      "The results for Power as the target in the Decision Tree Regessor:\n",
      "0.8288341188157663\n",
      "\n",
      "The results for Toughness as the target in the Decision Tree Regessor:\n",
      "0.8872318905480118\n"
     ]
    }
   ],
   "source": [
    "cards_d_tree_boosted(4, cards)"
   ]
  },
  {
   "cell_type": "markdown",
   "metadata": {},
   "source": [
    "Not bad. Let's try with only cards printed recently."
   ]
  },
  {
   "cell_type": "code",
   "execution_count": 9,
   "metadata": {},
   "outputs": [
    {
     "name": "stdout",
     "output_type": "stream",
     "text": [
      "Data used from Recent Cards dataset.\n",
      "\n",
      "Overall R^2 for Power after 100 iterations:\n",
      "0.9491838642518328\n",
      "Data used from Recent Cards dataset.\n",
      "\n",
      "Overall R^2 for Toughness after 100 iterations:\n",
      "0.9399120137736107\n",
      "Data used from Recent Cards dataset.\n",
      "\n",
      "Overall R^2 for Legendary after 100 iterations:\n",
      "0.9123350861732801\n",
      "Data used from Recent Cards dataset.\n",
      "\n",
      "Overall R^2 for Specific Mana Cost after 100 iterations:\n",
      "0.945088937935838\n",
      "Data used from Recent Cards dataset.\n",
      "\n",
      "Overall R^2 for EG Keywords after 100 iterations:\n",
      "0.7990275131136388\n",
      "Data used from Recent Cards dataset.\n",
      "\n",
      "Overall R^2 for Set Keywords after 100 iterations:\n",
      "0.741489350670608\n",
      "Data used from Recent Cards dataset.\n",
      "\n",
      "Overall R^2 for Converted Mana Cost after 100 iterations:\n",
      "0.9421022130089292\n"
     ]
    }
   ],
   "source": [
    "d_tree_boosted(4, recent_cards, 'Power')\n",
    "d_tree_boosted(4, recent_cards, 'Toughness')\n",
    "d_tree_boosted(4, recent_cards, 'Legendary')\n",
    "d_tree_boosted(4, recent_cards, 'Specific Mana Cost')\n",
    "d_tree_boosted(4, recent_cards, 'EG Keywords')\n",
    "d_tree_boosted(4, recent_cards, 'Set Keywords')\n",
    "d_tree_boosted(4, recent_cards, 'Converted Mana Cost')"
   ]
  },
  {
   "cell_type": "markdown",
   "metadata": {},
   "source": [
    "Only Set Keywords looks bad here. Let's remove all of these as features and see if they can still be predicted."
   ]
  },
  {
   "cell_type": "code",
   "execution_count": 10,
   "metadata": {},
   "outputs": [
    {
     "name": "stdout",
     "output_type": "stream",
     "text": [
      "Decision Tree Regression\n",
      "\n",
      "The results for Specific Mana Cost as the target in the Decision Tree Regessor:\n",
      "0.7503263785635671\n",
      "\n",
      "The results for Power as the target in the Decision Tree Regessor:\n",
      "0.3761977781940892\n",
      "\n",
      "The results for Toughness as the target in the Decision Tree Regessor:\n",
      "0.3685369350994774\n",
      "\n",
      "The results for Legendary as the target in the Decision Tree Regessor:\n",
      "0.6296686126143884\n",
      "\n",
      "The results for EG Keywords as the target in the Decision Tree Regessor:\n",
      "0.343057146539964\n",
      "\n",
      "The results for Set Keywords as the target in the Decision Tree Regessor:\n",
      "0.21879692287532465\n",
      "\n",
      "The results for Converted Mana Cost as the target in the Decision Tree Regessor:\n",
      "0.29120808680357474\n"
     ]
    }
   ],
   "source": [
    "def rcards_d_tree_boosted(depth, data):\n",
    "    targets =  ['Specific Mana Cost', 'Power', 'Toughness', 'Legendary',\n",
    "               'EG Keywords', 'Set Keywords', 'Converted Mana Cost']\n",
    "    attributes = ['Specific Mana Cost', 'Power', 'Toughness', 'Legendary',\n",
    "               'EG Keywords', 'Set Keywords', 'Converted Mana Cost']\n",
    "    predictions = pd.DataFrame()\n",
    "    print('Decision Tree Regression')\n",
    "    for target in targets:\n",
    "        y = data[target]\n",
    "        X = data.drop(attributes, axis=1)\n",
    "        print('\\nThe results for {} as the target in the Decision Tree Regessor:'.format(target))\n",
    "        for n in range(0, 101):\n",
    "            decision_tree = DecisionTreeRegressor(max_depth=depth)\n",
    "            decision_tree.fit(X, y)\n",
    "            predict = decision_tree.predict(X)\n",
    "            predictions['predictions {}'.format(n)] = predict\n",
    "            y = y - predict\n",
    "        predicted = predictions.sum(axis=1)\n",
    "        print(np.corrcoef(data[target], predicted)[0, 1])\n",
    "        \n",
    "rcards_d_tree_boosted(4, recent_cards)"
   ]
  },
  {
   "cell_type": "markdown",
   "metadata": {},
   "source": [
    "So, only Specific Mana Cost worked here. We'll add back in Converted Mana Cost and run these again to see what they look like."
   ]
  },
  {
   "cell_type": "code",
   "execution_count": 11,
   "metadata": {},
   "outputs": [
    {
     "name": "stdout",
     "output_type": "stream",
     "text": [
      "Decision Tree Regression\n",
      "\n",
      "The results for Specific Mana Cost as the target in the Decision Tree Regessor:\n",
      "0.8658218203322351\n",
      "\n",
      "The results for Power as the target in the Decision Tree Regessor:\n",
      "0.8431265407604026\n",
      "\n",
      "The results for Toughness as the target in the Decision Tree Regessor:\n",
      "0.7884972509027901\n",
      "\n",
      "The results for Legendary as the target in the Decision Tree Regessor:\n",
      "0.7320179508299496\n",
      "\n",
      "The results for EG Keywords as the target in the Decision Tree Regessor:\n",
      "0.556992914753479\n",
      "\n",
      "The results for Set Keywords as the target in the Decision Tree Regessor:\n",
      "0.46595684688981337\n"
     ]
    }
   ],
   "source": [
    "def rcards_d_tree_boosted(depth, data):\n",
    "    targets =  ['Specific Mana Cost', 'Power', 'Toughness', 'Legendary',\n",
    "               'EG Keywords', 'Set Keywords']\n",
    "    attributes = ['Specific Mana Cost', 'Power', 'Toughness', 'Legendary',\n",
    "               'EG Keywords', 'Set Keywords']\n",
    "    predictions = pd.DataFrame()\n",
    "    print('Decision Tree Regression')\n",
    "    for target in targets:\n",
    "        y = data[target]\n",
    "        X = data.drop(attributes, axis=1)\n",
    "        print('\\nThe results for {} as the target in the Decision Tree Regessor:'.format(target))\n",
    "        for n in range(0, 101):\n",
    "            decision_tree = DecisionTreeRegressor(max_depth=depth)\n",
    "            decision_tree.fit(X, y)\n",
    "            predict = decision_tree.predict(X)\n",
    "            predictions['predictions {}'.format(n)] = predict\n",
    "            y = y - predict\n",
    "        predicted = predictions.sum(axis=1)\n",
    "        print(np.corrcoef(data[target], predicted)[0, 1])\n",
    "        \n",
    "rcards_d_tree_boosted(4, recent_cards)"
   ]
  },
  {
   "cell_type": "markdown",
   "metadata": {},
   "source": [
    "Since Specific Mana Cost and Power are now in acceptable ranges, we'll remove them to see what the rest look like."
   ]
  },
  {
   "cell_type": "code",
   "execution_count": 12,
   "metadata": {},
   "outputs": [
    {
     "name": "stdout",
     "output_type": "stream",
     "text": [
      "Decision Tree Regression\n",
      "\n",
      "The results for Toughness as the target in the Decision Tree Regessor:\n",
      "0.9279530949812422\n",
      "\n",
      "The results for Legendary as the target in the Decision Tree Regessor:\n",
      "0.8488370021366797\n",
      "\n",
      "The results for EG Keywords as the target in the Decision Tree Regessor:\n",
      "0.7070746207635284\n",
      "\n",
      "The results for Set Keywords as the target in the Decision Tree Regessor:\n",
      "0.6106631819986321\n"
     ]
    }
   ],
   "source": [
    "def rcards_d_tree_boosted(depth, data):\n",
    "    targets =  ['Toughness', 'Legendary', 'EG Keywords', 'Set Keywords']\n",
    "    attributes = ['Toughness', 'Legendary', 'EG Keywords', 'Set Keywords']\n",
    "    predictions = pd.DataFrame()\n",
    "    print('Decision Tree Regression')\n",
    "    for target in targets:\n",
    "        y = data[target]\n",
    "        X = data.drop(attributes, axis=1)\n",
    "        print('\\nThe results for {} as the target in the Decision Tree Regessor:'.format(target))\n",
    "        for n in range(0, 101):\n",
    "            decision_tree = DecisionTreeRegressor(max_depth=depth)\n",
    "            decision_tree.fit(X, y)\n",
    "            predict = decision_tree.predict(X)\n",
    "            predictions['predictions {}'.format(n)] = predict\n",
    "            y = y - predict\n",
    "        predicted = predictions.sum(axis=1)\n",
    "        print(np.corrcoef(data[target], predicted)[0, 1])\n",
    "        \n",
    "rcards_d_tree_boosted(4, recent_cards)"
   ]
  },
  {
   "cell_type": "markdown",
   "metadata": {},
   "source": [
    "Now only EG Keywords and Set Keywords are wanting. Once more, with feeling."
   ]
  },
  {
   "cell_type": "code",
   "execution_count": 13,
   "metadata": {},
   "outputs": [
    {
     "name": "stdout",
     "output_type": "stream",
     "text": [
      "Decision Tree Regression\n",
      "\n",
      "The results for EG Keywords as the target in the Decision Tree Regessor:\n",
      "0.7770950812186038\n",
      "\n",
      "The results for Set Keywords as the target in the Decision Tree Regessor:\n",
      "0.6999511242780767\n"
     ]
    }
   ],
   "source": [
    "def rcards_d_tree_boosted(depth, data):\n",
    "    targets =  ['EG Keywords', 'Set Keywords']\n",
    "    attributes = ['EG Keywords', 'Set Keywords']\n",
    "    predictions = pd.DataFrame()\n",
    "    print('Decision Tree Regression')\n",
    "    for target in targets:\n",
    "        y = data[target]\n",
    "        X = data.drop(attributes, axis=1)\n",
    "        print('\\nThe results for {} as the target in the Decision Tree Regessor:'.format(target))\n",
    "        for n in range(0, 101):\n",
    "            decision_tree = DecisionTreeRegressor(max_depth=depth)\n",
    "            decision_tree.fit(X, y)\n",
    "            predict = decision_tree.predict(X)\n",
    "            predictions['predictions {}'.format(n)] = predict\n",
    "            y = y - predict\n",
    "        predicted = predictions.sum(axis=1)\n",
    "        print(np.corrcoef(data[target], predicted)[0, 1])\n",
    "        \n",
    "rcards_d_tree_boosted(4, recent_cards)"
   ]
  },
  {
   "cell_type": "markdown",
   "metadata": {},
   "source": [
    "Okay. Having completed this, the order will be Specific Mana Cost, Power, Toughness, EG Keywords, and Set Keywords. Same as before."
   ]
  },
  {
   "cell_type": "code",
   "execution_count": 14,
   "metadata": {},
   "outputs": [
    {
     "name": "stdout",
     "output_type": "stream",
     "text": [
      "Decision Tree Regression\n",
      "\n",
      "The results for Specific Mana Cost as the target in the Decision Tree Regessor:\n",
      "0.8658218203322351\n",
      "\n",
      "The results for Power as the target in the Decision Tree Regessor:\n",
      "0.8577705230347077\n",
      "\n",
      "The results for Toughness as the target in the Decision Tree Regessor:\n",
      "0.9279530949812422\n",
      "\n",
      "The results for Legendary as the target in the Decision Tree Regessor:\n",
      "0.8864599603196075\n",
      "\n",
      "The results for EG Keywords as the target in the Decision Tree Regessor:\n",
      "0.7770950812186042\n",
      "\n",
      "The results for Set Keywords as the target in the Decision Tree Regessor:\n",
      "0.7414893506706078\n"
     ]
    }
   ],
   "source": [
    "def rcards_d_tree_boosted(depth, data):\n",
    "    targets =  ['Specific Mana Cost', 'Power', 'Toughness', 'Legendary',\n",
    "               'EG Keywords', 'Set Keywords']\n",
    "    attributes = ['Specific Mana Cost', 'Power', 'Toughness', 'Legendary',\n",
    "               'EG Keywords', 'Set Keywords']\n",
    "    predictions = pd.DataFrame()\n",
    "    print('Decision Tree Regression')\n",
    "    for target in targets:\n",
    "        y = data[target]\n",
    "        X = data.drop(attributes, axis=1)\n",
    "        attributes.pop(0)\n",
    "        print('\\nThe results for {} as the target in the Decision Tree Regessor:'.format(target))\n",
    "        for n in range(0, 101):\n",
    "            decision_tree = DecisionTreeRegressor(max_depth=depth)\n",
    "            decision_tree.fit(X, y)\n",
    "            predict = decision_tree.predict(X)\n",
    "            predictions['predictions {}'.format(n)] = predict\n",
    "            y = y - predict\n",
    "        predicted = predictions.sum(axis=1)\n",
    "        print(np.corrcoef(data[target], predicted)[0, 1])\n",
    "        \n",
    "rcards_d_tree_boosted(4, recent_cards)"
   ]
  },
  {
   "cell_type": "code",
   "execution_count": null,
   "metadata": {},
   "outputs": [],
   "source": []
  }
 ],
 "metadata": {
  "kernelspec": {
   "display_name": "Python 3",
   "language": "python",
   "name": "python3"
  },
  "language_info": {
   "codemirror_mode": {
    "name": "ipython",
    "version": 3
   },
   "file_extension": ".py",
   "mimetype": "text/x-python",
   "name": "python",
   "nbconvert_exporter": "python",
   "pygments_lexer": "ipython3",
   "version": "3.8.3"
  }
 },
 "nbformat": 4,
 "nbformat_minor": 4
}
