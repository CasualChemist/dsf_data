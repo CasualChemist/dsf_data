{
 "cells": [
  {
   "cell_type": "code",
   "execution_count": 1,
   "metadata": {},
   "outputs": [],
   "source": [
    "import dask.dataframe as dd\n",
    "import pandas as pd\n",
    "import statsmodels.api as sm\n",
    "from dask.distributed import Client, progress\n",
    "from dask_ml.model_selection import train_test_split\n",
    "from sklearn.ensemble import RandomForestClassifier\n",
    "from sklearn.linear_model import LinearRegression, Ridge, Lasso, ElasticNet, LogisticRegression\n",
    "from sklearn.metrics import roc_auc_score\n",
    "from sklearn.model_selection import cross_validate, GridSearchCV\n",
    "from sklearn.neighbors import KNeighborsClassifier, KNeighborsRegressor\n",
    "from xgboost import XGBClassifier\n",
    "import joblib\n",
    "import warnings\n",
    "warnings.filterwarnings(\"ignore\")"
   ]
  },
  {
   "cell_type": "code",
   "execution_count": 2,
   "metadata": {},
   "outputs": [],
   "source": [
    "df = dd.read_csv('D:/DSF Files/creditcard.csv', dtype={'Time':'float64'})"
   ]
  },
  {
   "cell_type": "code",
   "execution_count": 3,
   "metadata": {},
   "outputs": [],
   "source": [
    "y = df['Class']\n",
    "X = df.drop(['Class'], 1)\n",
    "X_train, X_test, y_train, y_test = train_test_split(X, y, test_size=0.2, random_state=357)"
   ]
  },
  {
   "cell_type": "code",
   "execution_count": 4,
   "metadata": {},
   "outputs": [
    {
     "data": {
      "text/html": [
       "<table style=\"border: 2px solid white;\">\n",
       "<tr>\n",
       "<td style=\"vertical-align: top; border: 0px solid white\">\n",
       "<h3 style=\"text-align: left;\">Client</h3>\n",
       "<ul style=\"text-align: left; list-style: none; margin: 0; padding: 0;\">\n",
       "  <li><b>Scheduler: </b>tcp://127.0.0.1:61985</li>\n",
       "  <li><b>Dashboard: </b><a href='http://127.0.0.1:61984/status' target='_blank'>http://127.0.0.1:61984/status</a></li>\n",
       "</ul>\n",
       "</td>\n",
       "<td style=\"vertical-align: top; border: 0px solid white\">\n",
       "<h3 style=\"text-align: left;\">Cluster</h3>\n",
       "<ul style=\"text-align: left; list-style:none; margin: 0; padding: 0;\">\n",
       "  <li><b>Workers: </b>4</li>\n",
       "  <li><b>Cores: </b>8</li>\n",
       "  <li><b>Memory: </b>16.00 GB</li>\n",
       "</ul>\n",
       "</td>\n",
       "</tr>\n",
       "</table>"
      ],
      "text/plain": [
       "<Client: 'tcp://127.0.0.1:61985' processes=4 threads=8, memory=16.00 GB>"
      ]
     },
     "execution_count": 4,
     "metadata": {},
     "output_type": "execute_result"
    }
   ],
   "source": [
    "client = Client(n_workers=4, threads_per_worker=2, memory_limit='4GB')\n",
    "client"
   ]
  },
  {
   "cell_type": "code",
   "execution_count": 5,
   "metadata": {},
   "outputs": [
    {
     "data": {
      "text/plain": [
       "{'fit_time': array([0.10674572, 0.16156816, 0.14261746, 0.19348311]),\n",
       " 'score_time': array([0.00398898, 0.00598407, 0.00598454, 0.00598359]),\n",
       " 'test_score': array([0.37545771, 0.47791122, 0.60539818, 0.4306252 ])}"
      ]
     },
     "execution_count": 5,
     "metadata": {},
     "output_type": "execute_result"
    }
   ],
   "source": [
    "with joblib.parallel_backend('dask'):\n",
    "    lr = LinearRegression()\n",
    "    scores = cross_validate(lr, X_train.compute(), y_train.compute(), cv=4)\n",
    "scores"
   ]
  },
  {
   "cell_type": "code",
   "execution_count": 6,
   "metadata": {},
   "outputs": [
    {
     "data": {
      "text/plain": [
       "{'fit_time': array([0.12563133, 0.08477569, 0.07480049, 0.10372233]),\n",
       " 'score_time': array([0.00498676, 0.00897431, 0.00797772, 0.0069809 ]),\n",
       " 'test_score': array([-1.00623182e-04, -9.15327357e-04,  5.81852836e-05, -8.30178175e-05])}"
      ]
     },
     "execution_count": 6,
     "metadata": {},
     "output_type": "execute_result"
    }
   ],
   "source": [
    "with joblib.parallel_backend('dask'):\n",
    "    lr = Lasso()\n",
    "    scores = cross_validate(lr, X_train.compute(), y_train.compute(), cv=4)\n",
    "scores"
   ]
  },
  {
   "cell_type": "code",
   "execution_count": 7,
   "metadata": {},
   "outputs": [
    {
     "data": {
      "text/plain": [
       "{'fit_time': array([0.08380485, 0.08319092, 0.10970616, 0.10771108]),\n",
       " 'score_time': array([0.00498748, 0.00598335, 0.00698233, 0.00498724]),\n",
       " 'test_score': array([0.37546822, 0.47790996, 0.60539799, 0.4306239 ])}"
      ]
     },
     "execution_count": 7,
     "metadata": {},
     "output_type": "execute_result"
    }
   ],
   "source": [
    "with joblib.parallel_backend('dask'):\n",
    "    lr = Ridge()\n",
    "    scores = cross_validate(lr, X_train.compute(), y_train.compute(), cv=4)\n",
    "scores"
   ]
  },
  {
   "cell_type": "code",
   "execution_count": 8,
   "metadata": {},
   "outputs": [
    {
     "data": {
      "text/plain": [
       "{'fit_time': array([0.08038926, 0.14065266, 0.11370063, 0.13666296]),\n",
       " 'score_time': array([0.01495957, 0.00748801, 0.00797868, 0.00649977]),\n",
       " 'test_score': array([-8.44547699e-05, -9.25715833e-04,  5.87758425e-05, -1.00867844e-04])}"
      ]
     },
     "execution_count": 8,
     "metadata": {},
     "output_type": "execute_result"
    }
   ],
   "source": [
    "with joblib.parallel_backend('dask'):\n",
    "    lr = ElasticNet()\n",
    "    scores = cross_validate(lr, X_train.compute(), y_train.compute(), cv=4)\n",
    "scores"
   ]
  },
  {
   "cell_type": "code",
   "execution_count": 9,
   "metadata": {},
   "outputs": [
    {
     "data": {
      "text/plain": [
       "{'fit_time': array([18.4008255 , 42.57190895, 10.48074102, 21.53142738]),\n",
       " 'score_time': array([0.00997281, 0.00698066, 0.01396275, 0.02293992]),\n",
       " 'test_score': array([0.98668675, 0.99894894, 0.99898397, 0.99882631])}"
      ]
     },
     "execution_count": 9,
     "metadata": {},
     "output_type": "execute_result"
    }
   ],
   "source": [
    "with joblib.parallel_backend('dask'):\n",
    "    lr = LogisticRegression(solver='lbfgs', penalty='l2', max_iter=2000)\n",
    "    scores = cross_validate(lr, X_train.compute(), y_train.compute(), cv=4)\n",
    "scores"
   ]
  },
  {
   "cell_type": "code",
   "execution_count": null,
   "metadata": {},
   "outputs": [],
   "source": []
  }
 ],
 "metadata": {
  "kernelspec": {
   "display_name": "Python 3",
   "language": "python",
   "name": "python3"
  },
  "language_info": {
   "codemirror_mode": {
    "name": "ipython",
    "version": 3
   },
   "file_extension": ".py",
   "mimetype": "text/x-python",
   "name": "python",
   "nbconvert_exporter": "python",
   "pygments_lexer": "ipython3",
   "version": "3.8.3"
  }
 },
 "nbformat": 4,
 "nbformat_minor": 4
}
