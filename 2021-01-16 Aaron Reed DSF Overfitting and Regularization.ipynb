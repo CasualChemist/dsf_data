{
 "cells": [
  {
   "cell_type": "code",
   "execution_count": 1,
   "metadata": {},
   "outputs": [],
   "source": [
    "#import the necessities\n",
    "import matplotlib.pyplot as plt\n",
    "import numpy as np\n",
    "import pandas as pd\n",
    "import statsmodels.api as sm\n",
    "import warnings\n",
    "from scipy.stats import bartlett, levene\n",
    "from sklearn.linear_model import LinearRegression, RidgeCV, LassoCV, ElasticNetCV\n",
    "from sklearn.model_selection import train_test_split\n",
    "from sklearn.metrics import mean_absolute_error\n",
    "from sqlalchemy import create_engine\n",
    "from statsmodels.tools.eval_measures import mse, rmse\n",
    "%matplotlib inline\n",
    "warnings.filterwarnings('ignore')"
   ]
  },
  {
   "cell_type": "code",
   "execution_count": 2,
   "metadata": {},
   "outputs": [],
   "source": [
    "#create the authorization variables\n",
    "postgres_user = 'dsbc_student'\n",
    "postgres_pw = '7*.8G9QH21'\n",
    "postgres_host = '142.93.121.174'\n",
    "postgres_port = '5432'\n",
    "houses_db = 'houseprices'"
   ]
  },
  {
   "cell_type": "code",
   "execution_count": 3,
   "metadata": {},
   "outputs": [],
   "source": [
    "#create and dispose of engine\n",
    "engine = create_engine('postgresql://{}:{}@{}:{}/{}'.format(\n",
    "    postgres_user, postgres_pw, postgres_host, postgres_port, houses_db))\n",
    "\n",
    "houseprices_df = pd.read_sql_query('SELECT * FROM houseprices', con=engine)\n",
    "\n",
    "engine.dispose()"
   ]
  },
  {
   "cell_type": "code",
   "execution_count": 4,
   "metadata": {},
   "outputs": [],
   "source": [
    "#create the datasets from the previous checkpoint\n",
    "y = houseprices_df['saleprice']\n",
    "X = houseprices_df[['lotarea', 'overallqual', 'yearbuilt', 'poolarea']]"
   ]
  },
  {
   "cell_type": "code",
   "execution_count": 5,
   "metadata": {},
   "outputs": [],
   "source": [
    "#create the training set and the testing set\n",
    "X_train, X_test, y_train, y_test = train_test_split(X, y, random_state=61)\n",
    "X_train = sm.add_constant(X_train)\n",
    "X_test = sm.add_constant(X_test)"
   ]
  },
  {
   "cell_type": "code",
   "execution_count": 6,
   "metadata": {},
   "outputs": [],
   "source": [
    "#run a linear regression and fit it\n",
    "lrm = LinearRegression()\n",
    "lrm.fit(X_train, y_train)\n",
    "#then make predictions\n",
    "y_pred_train = lrm.predict(X_train)\n",
    "y_pred_test = lrm.predict(X_test)"
   ]
  },
  {
   "cell_type": "code",
   "execution_count": 7,
   "metadata": {},
   "outputs": [
    {
     "name": "stdout",
     "output_type": "stream",
     "text": [
      "R-squared of the model in the training set is: 0.6680579386771139\n",
      "\n",
      "R-squared of the model in the test set is: 0.6667808483018217\n",
      "Mean absolute error of the prediction is: 32774.36571199548\n",
      "Mean squared error of the prediction is: 2319691179.152048\n",
      "Root mean squared error of the prediction is: 48163.17243654168\n",
      "Mean absolute percentage error of the prediction is: 18.66368225311517\n"
     ]
    }
   ],
   "source": [
    "#get the values of interest\n",
    "print(\"R-squared of the model in the training set is: {}\".format(lrm.score(X_train, y_train)))\n",
    "print(\"\\nR-squared of the model in the test set is: {}\".format(lrm.score(X_test, y_test)))\n",
    "print(\"Mean absolute error of the prediction is: {}\".format(mean_absolute_error(y_test, y_pred_test)))\n",
    "print(\"Mean squared error of the prediction is: {}\".format(mse(y_test, y_pred_test)))\n",
    "print(\"Root mean squared error of the prediction is: {}\".format(rmse(y_test, y_pred_test)))\n",
    "print(\"Mean absolute percentage error of the prediction is: {}\".format(np.mean(np.abs((\n",
    "    y_test - y_pred_test) / y_test)) * 100))"
   ]
  },
  {
   "cell_type": "code",
   "execution_count": 8,
   "metadata": {},
   "outputs": [],
   "source": [
    "#run a lasso regression and cross validate\n",
    "lassoreg = LassoCV(cv=10)\n",
    "lassoreg.fit(X_train, y_train)\n",
    "#make predictions\n",
    "lasso_y_pred_train = lassoreg.predict(X_train)\n",
    "lasso_y_pred_test = lassoreg.predict(X_test)"
   ]
  },
  {
   "cell_type": "code",
   "execution_count": 9,
   "metadata": {},
   "outputs": [
    {
     "name": "stdout",
     "output_type": "stream",
     "text": [
      "R-squared of the model in the training set is: 0.34057778952559703\n",
      "\n",
      "R-squared of the model in the test set is: 0.2984880457605359\n",
      "Mean absolute error of the prediction is: 46644.43493012114\n",
      "Mean squared error of the prediction is: 4883546110.797858\n",
      "Root mean squared error of the prediction is: 69882.373391277\n",
      "Mean absolute percentage error of the prediction is: 26.456603146280916\n"
     ]
    }
   ],
   "source": [
    "#print the stats\n",
    "print(\"R-squared of the model in the training set is: {}\".format(lassoreg.score(X_train, y_train)))\n",
    "print(\"\\nR-squared of the model in the test set is: {}\".format(lassoreg.score(X_test, y_test)))\n",
    "print(\"Mean absolute error of the prediction is: {}\".format(mean_absolute_error(y_test, lasso_y_pred_test)))\n",
    "print(\"Mean squared error of the prediction is: {}\".format(mse(y_test, lasso_y_pred_test)))\n",
    "print(\"Root mean squared error of the prediction is: {}\".format(rmse(y_test, lasso_y_pred_test)))\n",
    "print(\"Mean absolute percentage error of the prediction is: {}\".format(np.mean(np.abs((\n",
    "    y_test - lasso_y_pred_test) / y_test)) * 100))"
   ]
  },
  {
   "cell_type": "code",
   "execution_count": 10,
   "metadata": {},
   "outputs": [],
   "source": [
    "#ridge regression time\n",
    "ridgereg = RidgeCV(cv=10)\n",
    "ridgereg.fit(X_train, y_train)\n",
    "#make predictions\n",
    "ridge_y_pred_train = ridgereg.predict(X_train)\n",
    "ridge_y_pred_test = ridgereg.predict(X_test)"
   ]
  },
  {
   "cell_type": "code",
   "execution_count": 11,
   "metadata": {},
   "outputs": [
    {
     "name": "stdout",
     "output_type": "stream",
     "text": [
      "R-squared of the model in the training set is: 0.668041430348904\n",
      "\n",
      "R-squared of the model in the test set is: 0.6662555459531638\n",
      "Mean absolute error of the prediction is: 32751.800154295575\n",
      "Mean squared error of the prediction is: 2323348049.4680533\n",
      "Root mean squared error of the prediction is: 48201.1208320725\n",
      "Mean absolute percentage error of the prediction is: 18.61977152426953\n"
     ]
    }
   ],
   "source": [
    "#look at the stats\n",
    "print(\"R-squared of the model in the training set is: {}\".format(ridgereg.score(X_train, y_train)))\n",
    "print(\"\\nR-squared of the model in the test set is: {}\".format(ridgereg.score(X_test, y_test)))\n",
    "print(\"Mean absolute error of the prediction is: {}\".format(mean_absolute_error(y_test, ridge_y_pred_test)))\n",
    "print(\"Mean squared error of the prediction is: {}\".format(mse(y_test, ridge_y_pred_test)))\n",
    "print(\"Root mean squared error of the prediction is: {}\".format(rmse(y_test, ridge_y_pred_test)))\n",
    "print(\"Mean absolute percentage error of the prediction is: {}\".format(np.mean(np.abs((\n",
    "    y_test - ridge_y_pred_test) / y_test)) * 100))"
   ]
  },
  {
   "cell_type": "code",
   "execution_count": 12,
   "metadata": {},
   "outputs": [],
   "source": [
    "#now for elastic net\n",
    "enreg = ElasticNetCV(cv=10)\n",
    "enreg.fit(X_train, y_train)\n",
    "#make the needed predictions\n",
    "en_y_pred_train = enreg.predict(X_train)\n",
    "en_y_pred_test = enreg.predict(X_test)"
   ]
  },
  {
   "cell_type": "code",
   "execution_count": 13,
   "metadata": {},
   "outputs": [
    {
     "name": "stdout",
     "output_type": "stream",
     "text": [
      "R-squared of the model in the training set is: 0.0720212891795542\n",
      "\n",
      "R-squared of the model in the test set is: 0.06408553354015056\n",
      "Mean absolute error of the prediction is: 56144.56438765459\n",
      "Mean squared error of the prediction is: 6515329389.753012\n",
      "Root mean squared error of the prediction is: 80717.59033663612\n",
      "Mean absolute percentage error of the prediction is: 34.00436028678142\n"
     ]
    }
   ],
   "source": [
    "#find the stats yet again\n",
    "print(\"R-squared of the model in the training set is: {}\".format(enreg.score(X_train, y_train)))\n",
    "print(\"\\nR-squared of the model in the test set is: {}\".format(enreg.score(X_test, y_test)))\n",
    "print(\"Mean absolute error of the prediction is: {}\".format(mean_absolute_error(y_test, en_y_pred_test)))\n",
    "print(\"Mean squared error of the prediction is: {}\".format(mse(y_test, en_y_pred_test)))\n",
    "print(\"Root mean squared error of the prediction is: {}\".format(rmse(y_test, en_y_pred_test)))\n",
    "print(\"Mean absolute percentage error of the prediction is: {}\".format(np.mean(np.abs((\n",
    "    y_test - en_y_pred_test) / y_test)) * 100))"
   ]
  },
  {
   "cell_type": "code",
   "execution_count": null,
   "metadata": {},
   "outputs": [],
   "source": []
  }
 ],
 "metadata": {
  "kernelspec": {
   "display_name": "Python 3",
   "language": "python",
   "name": "python3"
  },
  "language_info": {
   "codemirror_mode": {
    "name": "ipython",
    "version": 3
   },
   "file_extension": ".py",
   "mimetype": "text/x-python",
   "name": "python",
   "nbconvert_exporter": "python",
   "pygments_lexer": "ipython3",
   "version": "3.8.3"
  }
 },
 "nbformat": 4,
 "nbformat_minor": 4
}
