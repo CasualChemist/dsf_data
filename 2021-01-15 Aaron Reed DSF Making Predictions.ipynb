{
 "cells": [
  {
   "cell_type": "code",
   "execution_count": 1,
   "metadata": {},
   "outputs": [],
   "source": [
    "#import the necessities\n",
    "import matplotlib.pyplot as plt\n",
    "import numpy as np\n",
    "import pandas as pd\n",
    "import statsmodels.api as sm\n",
    "import warnings\n",
    "from scipy.stats import bartlett, levene\n",
    "from sklearn.linear_model import LinearRegression\n",
    "from sklearn.model_selection import train_test_split\n",
    "from sklearn.metrics import mean_absolute_error\n",
    "from sqlalchemy import create_engine\n",
    "from statsmodels.tsa.stattools import acf\n",
    "from statsmodels.tools.eval_measures import mse, rmse\n",
    "%matplotlib inline\n",
    "warnings.filterwarnings('ignore')"
   ]
  },
  {
   "cell_type": "code",
   "execution_count": 2,
   "metadata": {},
   "outputs": [],
   "source": [
    "#create the authorization variables\n",
    "postgres_user = 'dsbc_student'\n",
    "postgres_pw = '7*.8G9QH21'\n",
    "postgres_host = '142.93.121.174'\n",
    "postgres_port = '5432'\n",
    "houses_db = 'houseprices'"
   ]
  },
  {
   "cell_type": "code",
   "execution_count": 3,
   "metadata": {},
   "outputs": [],
   "source": [
    "#create and dispose of engine\n",
    "engine = create_engine('postgresql://{}:{}@{}:{}/{}'.format(\n",
    "    postgres_user, postgres_pw, postgres_host, postgres_port, houses_db))\n",
    "\n",
    "houseprices_df = pd.read_sql_query('SELECT * FROM houseprices', con=engine)\n",
    "\n",
    "engine.dispose()"
   ]
  },
  {
   "cell_type": "code",
   "execution_count": 4,
   "metadata": {},
   "outputs": [],
   "source": [
    "#create a clean copy of the houseprices_df to avoid reestablishing the connection\n",
    "houseprices_copy = houseprices_df.copy()"
   ]
  },
  {
   "cell_type": "code",
   "execution_count": 9,
   "metadata": {},
   "outputs": [],
   "source": [
    "#create the datasets from the previous checkpoint\n",
    "houses_y = houseprices_df['saleprice']\n",
    "houses_X = houseprices_df[['lotarea', 'overallqual', 'yearbuilt', 'poolarea']]"
   ]
  },
  {
   "cell_type": "code",
   "execution_count": 25,
   "metadata": {},
   "outputs": [],
   "source": [
    "#create the training set and the testing set using random_state=10\n",
    "#we'll also go ahead and add the constants to the training and test sets\n",
    "houses_X_train, houses_X_test, houses_y_train, houses_y_test = train_test_split(houses_X, houses_y, random_state=10)\n",
    "houses_X_train = sm.add_constant(houses_X_train)\n",
    "houses_X_test = sm.add_constant(houses_X_test)"
   ]
  },
  {
   "cell_type": "code",
   "execution_count": 26,
   "metadata": {},
   "outputs": [
    {
     "data": {
      "text/html": [
       "<table class=\"simpletable\">\n",
       "<caption>OLS Regression Results</caption>\n",
       "<tr>\n",
       "  <th>Dep. Variable:</th>        <td>saleprice</td>    <th>  R-squared:         </th> <td>   0.691</td> \n",
       "</tr>\n",
       "<tr>\n",
       "  <th>Model:</th>                   <td>OLS</td>       <th>  Adj. R-squared:    </th> <td>   0.690</td> \n",
       "</tr>\n",
       "<tr>\n",
       "  <th>Method:</th>             <td>Least Squares</td>  <th>  F-statistic:       </th> <td>   610.6</td> \n",
       "</tr>\n",
       "<tr>\n",
       "  <th>Date:</th>             <td>Sat, 16 Jan 2021</td> <th>  Prob (F-statistic):</th> <td>1.93e-276</td>\n",
       "</tr>\n",
       "<tr>\n",
       "  <th>Time:</th>                 <td>13:08:47</td>     <th>  Log-Likelihood:    </th> <td> -13263.</td> \n",
       "</tr>\n",
       "<tr>\n",
       "  <th>No. Observations:</th>      <td>  1095</td>      <th>  AIC:               </th> <td>2.654e+04</td>\n",
       "</tr>\n",
       "<tr>\n",
       "  <th>Df Residuals:</th>          <td>  1090</td>      <th>  BIC:               </th> <td>2.656e+04</td>\n",
       "</tr>\n",
       "<tr>\n",
       "  <th>Df Model:</th>              <td>     4</td>      <th>                     </th>     <td> </td>    \n",
       "</tr>\n",
       "<tr>\n",
       "  <th>Covariance Type:</th>      <td>nonrobust</td>    <th>                     </th>     <td> </td>    \n",
       "</tr>\n",
       "</table>\n",
       "<table class=\"simpletable\">\n",
       "<tr>\n",
       "       <td></td>          <th>coef</th>     <th>std err</th>      <th>t</th>      <th>P>|t|</th>  <th>[0.025</th>    <th>0.975]</th>  \n",
       "</tr>\n",
       "<tr>\n",
       "  <th>const</th>       <td>-7.608e+05</td> <td>    1e+05</td> <td>   -7.585</td> <td> 0.000</td> <td>-9.58e+05</td> <td>-5.64e+05</td>\n",
       "</tr>\n",
       "<tr>\n",
       "  <th>lotarea</th>     <td>    1.4741</td> <td>    0.124</td> <td>   11.892</td> <td> 0.000</td> <td>    1.231</td> <td>    1.717</td>\n",
       "</tr>\n",
       "<tr>\n",
       "  <th>overallqual</th> <td> 3.979e+04</td> <td> 1160.821</td> <td>   34.274</td> <td> 0.000</td> <td> 3.75e+04</td> <td> 4.21e+04</td>\n",
       "</tr>\n",
       "<tr>\n",
       "  <th>yearbuilt</th>   <td>  346.8435</td> <td>   52.781</td> <td>    6.571</td> <td> 0.000</td> <td>  243.279</td> <td>  450.408</td>\n",
       "</tr>\n",
       "<tr>\n",
       "  <th>poolarea</th>    <td>  222.6591</td> <td>   46.800</td> <td>    4.758</td> <td> 0.000</td> <td>  130.831</td> <td>  314.487</td>\n",
       "</tr>\n",
       "</table>\n",
       "<table class=\"simpletable\">\n",
       "<tr>\n",
       "  <th>Omnibus:</th>       <td>356.600</td> <th>  Durbin-Watson:     </th> <td>   1.991</td>\n",
       "</tr>\n",
       "<tr>\n",
       "  <th>Prob(Omnibus):</th> <td> 0.000</td>  <th>  Jarque-Bera (JB):  </th> <td>2188.918</td>\n",
       "</tr>\n",
       "<tr>\n",
       "  <th>Skew:</th>          <td> 1.357</td>  <th>  Prob(JB):          </th> <td>    0.00</td>\n",
       "</tr>\n",
       "<tr>\n",
       "  <th>Kurtosis:</th>      <td> 9.373</td>  <th>  Cond. No.          </th> <td>1.14e+06</td>\n",
       "</tr>\n",
       "</table><br/><br/>Warnings:<br/>[1] Standard Errors assume that the covariance matrix of the errors is correctly specified.<br/>[2] The condition number is large, 1.14e+06. This might indicate that there are<br/>strong multicollinearity or other numerical problems."
      ],
      "text/plain": [
       "<class 'statsmodels.iolib.summary.Summary'>\n",
       "\"\"\"\n",
       "                            OLS Regression Results                            \n",
       "==============================================================================\n",
       "Dep. Variable:              saleprice   R-squared:                       0.691\n",
       "Model:                            OLS   Adj. R-squared:                  0.690\n",
       "Method:                 Least Squares   F-statistic:                     610.6\n",
       "Date:                Sat, 16 Jan 2021   Prob (F-statistic):          1.93e-276\n",
       "Time:                        13:08:47   Log-Likelihood:                -13263.\n",
       "No. Observations:                1095   AIC:                         2.654e+04\n",
       "Df Residuals:                    1090   BIC:                         2.656e+04\n",
       "Df Model:                           4                                         \n",
       "Covariance Type:            nonrobust                                         \n",
       "===============================================================================\n",
       "                  coef    std err          t      P>|t|      [0.025      0.975]\n",
       "-------------------------------------------------------------------------------\n",
       "const       -7.608e+05      1e+05     -7.585      0.000   -9.58e+05   -5.64e+05\n",
       "lotarea         1.4741      0.124     11.892      0.000       1.231       1.717\n",
       "overallqual  3.979e+04   1160.821     34.274      0.000    3.75e+04    4.21e+04\n",
       "yearbuilt     346.8435     52.781      6.571      0.000     243.279     450.408\n",
       "poolarea      222.6591     46.800      4.758      0.000     130.831     314.487\n",
       "==============================================================================\n",
       "Omnibus:                      356.600   Durbin-Watson:                   1.991\n",
       "Prob(Omnibus):                  0.000   Jarque-Bera (JB):             2188.918\n",
       "Skew:                           1.357   Prob(JB):                         0.00\n",
       "Kurtosis:                       9.373   Cond. No.                     1.14e+06\n",
       "==============================================================================\n",
       "\n",
       "Warnings:\n",
       "[1] Standard Errors assume that the covariance matrix of the errors is correctly specified.\n",
       "[2] The condition number is large, 1.14e+06. This might indicate that there are\n",
       "strong multicollinearity or other numerical problems.\n",
       "\"\"\""
      ]
     },
     "metadata": {},
     "output_type": "display_data"
    }
   ],
   "source": [
    "#check the results using OLS\n",
    "houses_results = sm.OLS(houses_y_train, houses_X_train).fit()\n",
    "display(houses_train_results.summary())"
   ]
  },
  {
   "cell_type": "code",
   "execution_count": 28,
   "metadata": {},
   "outputs": [
    {
     "name": "stdout",
     "output_type": "stream",
     "text": [
      "Mean absolute error of the prediction is: 32120.44676387956\n",
      "Mean squared error of the prediction is: 1993987445.098647\n",
      "Root mean squared error of the prediction is: 44654.08654421952\n",
      "Mean absolute percentage error of the prediction is: 20.2290927627533\n"
     ]
    }
   ],
   "source": [
    "#make predictions on the test data\n",
    "houses_y_preds = houses_results.predict(houses_X_test)\n",
    "print(\"Mean absolute error of the prediction is: {}\".format(mean_absolute_error(houses_y_test, houses_y_preds)))\n",
    "print(\"Mean squared error of the prediction is: {}\".format(mse(houses_y_test, houses_y_preds)))\n",
    "print(\"Root mean squared error of the prediction is: {}\".format(rmse(houses_y_test, houses_y_preds)))\n",
    "print(\"Mean absolute percentage error of the prediction is: {}\".format(np.mean(np.abs((\n",
    "    houses_y_test - houses_y_preds) / houses_y_test)) * 100))"
   ]
  },
  {
   "cell_type": "code",
   "execution_count": 29,
   "metadata": {},
   "outputs": [
    {
     "data": {
      "image/png": "[encoded data removed]",
      "text/plain": [
       "<Figure size 432x288 with 1 Axes>"
      ]
     },
     "metadata": {
      "needs_background": "light"
     },
     "output_type": "display_data"
    }
   ],
   "source": [
    "#visualize the data\n",
    "plt.scatter(houses_y_test, houses_y_preds)\n",
    "plt.plot(houses_y_test, houses_y_test, color=\"red\")\n",
    "plt.xlabel(\"true values\")\n",
    "plt.ylabel(\"predicted values\")\n",
    "plt.title(\"Charges: true and predicted values\")\n",
    "plt.show()"
   ]
  },
  {
   "cell_type": "code",
   "execution_count": 46,
   "metadata": {},
   "outputs": [],
   "source": [
    "#we'll add fireplaces and utilities to the model to see if we get improvement\n",
    "houses_2_y = houseprices_df['saleprice']\n",
    "houses_2_X = houseprices_df[['lotarea', 'overallqual', 'yearbuilt', 'poolarea', 'fireplaces']]\n",
    "houses_2_X['No Sewer/Water'] = pd.get_dummies(houseprices_df['utilities'], drop_first=True)"
   ]
  },
  {
   "cell_type": "code",
   "execution_count": 52,
   "metadata": {},
   "outputs": [],
   "source": [
    "#create a testing and training set\n",
    "houses_2_X_train, houses_2_X_test, houses_2_y_train, houses_2_y_test = train_test_split(\n",
    "    houses_2_X, houses_2_y, random_state=10)\n",
    "houses_2_X_train = sm.add_constant(houses_2_X_train)\n",
    "houses_2_X_test = sm.add_constant(houses_2_X_test)"
   ]
  },
  {
   "cell_type": "code",
   "execution_count": 53,
   "metadata": {},
   "outputs": [
    {
     "data": {
      "text/html": [
       "<table class=\"simpletable\">\n",
       "<caption>OLS Regression Results</caption>\n",
       "<tr>\n",
       "  <th>Dep. Variable:</th>        <td>saleprice</td>    <th>  R-squared:         </th> <td>   0.689</td> \n",
       "</tr>\n",
       "<tr>\n",
       "  <th>Model:</th>                   <td>OLS</td>       <th>  Adj. R-squared:    </th> <td>   0.688</td> \n",
       "</tr>\n",
       "<tr>\n",
       "  <th>Method:</th>             <td>Least Squares</td>  <th>  F-statistic:       </th> <td>   402.5</td> \n",
       "</tr>\n",
       "<tr>\n",
       "  <th>Date:</th>             <td>Sat, 16 Jan 2021</td> <th>  Prob (F-statistic):</th> <td>3.89e-272</td>\n",
       "</tr>\n",
       "<tr>\n",
       "  <th>Time:</th>                 <td>13:25:17</td>     <th>  Log-Likelihood:    </th> <td> -13282.</td> \n",
       "</tr>\n",
       "<tr>\n",
       "  <th>No. Observations:</th>      <td>  1095</td>      <th>  AIC:               </th> <td>2.658e+04</td>\n",
       "</tr>\n",
       "<tr>\n",
       "  <th>Df Residuals:</th>          <td>  1088</td>      <th>  BIC:               </th> <td>2.661e+04</td>\n",
       "</tr>\n",
       "<tr>\n",
       "  <th>Df Model:</th>              <td>     6</td>      <th>                     </th>     <td> </td>    \n",
       "</tr>\n",
       "<tr>\n",
       "  <th>Covariance Type:</th>      <td>nonrobust</td>    <th>                     </th>     <td> </td>    \n",
       "</tr>\n",
       "</table>\n",
       "<table class=\"simpletable\">\n",
       "<tr>\n",
       "         <td></td>           <th>coef</th>     <th>std err</th>      <th>t</th>      <th>P>|t|</th>  <th>[0.025</th>    <th>0.975]</th>  \n",
       "</tr>\n",
       "<tr>\n",
       "  <th>const</th>          <td>-7.993e+05</td> <td> 1.05e+05</td> <td>   -7.644</td> <td> 0.000</td> <td>   -1e+06</td> <td>-5.94e+05</td>\n",
       "</tr>\n",
       "<tr>\n",
       "  <th>lotarea</th>        <td>    1.2701</td> <td>    0.143</td> <td>    8.901</td> <td> 0.000</td> <td>    0.990</td> <td>    1.550</td>\n",
       "</tr>\n",
       "<tr>\n",
       "  <th>overallqual</th>    <td> 3.662e+04</td> <td> 1301.080</td> <td>   28.143</td> <td> 0.000</td> <td> 3.41e+04</td> <td> 3.92e+04</td>\n",
       "</tr>\n",
       "<tr>\n",
       "  <th>yearbuilt</th>      <td>  371.6358</td> <td>   55.111</td> <td>    6.743</td> <td> 0.000</td> <td>  263.500</td> <td>  479.771</td>\n",
       "</tr>\n",
       "<tr>\n",
       "  <th>poolarea</th>       <td>   51.9644</td> <td>   31.391</td> <td>    1.655</td> <td> 0.098</td> <td>   -9.629</td> <td>  113.558</td>\n",
       "</tr>\n",
       "<tr>\n",
       "  <th>fireplaces</th>     <td> 1.831e+04</td> <td> 2365.562</td> <td>    7.739</td> <td> 0.000</td> <td> 1.37e+04</td> <td> 2.29e+04</td>\n",
       "</tr>\n",
       "<tr>\n",
       "  <th>No Sewer/Water</th> <td>-4.711e+04</td> <td>  4.5e+04</td> <td>   -1.047</td> <td> 0.296</td> <td>-1.35e+05</td> <td> 4.12e+04</td>\n",
       "</tr>\n",
       "</table>\n",
       "<table class=\"simpletable\">\n",
       "<tr>\n",
       "  <th>Omnibus:</th>       <td>492.205</td> <th>  Durbin-Watson:     </th> <td>   2.031</td>\n",
       "</tr>\n",
       "<tr>\n",
       "  <th>Prob(Omnibus):</th> <td> 0.000</td>  <th>  Jarque-Bera (JB):  </th> <td>9228.373</td>\n",
       "</tr>\n",
       "<tr>\n",
       "  <th>Skew:</th>          <td> 1.595</td>  <th>  Prob(JB):          </th> <td>    0.00</td>\n",
       "</tr>\n",
       "<tr>\n",
       "  <th>Kurtosis:</th>      <td>16.860</td>  <th>  Cond. No.          </th> <td>1.12e+06</td>\n",
       "</tr>\n",
       "</table><br/><br/>Warnings:<br/>[1] Standard Errors assume that the covariance matrix of the errors is correctly specified.<br/>[2] The condition number is large, 1.12e+06. This might indicate that there are<br/>strong multicollinearity or other numerical problems."
      ],
      "text/plain": [
       "<class 'statsmodels.iolib.summary.Summary'>\n",
       "\"\"\"\n",
       "                            OLS Regression Results                            \n",
       "==============================================================================\n",
       "Dep. Variable:              saleprice   R-squared:                       0.689\n",
       "Model:                            OLS   Adj. R-squared:                  0.688\n",
       "Method:                 Least Squares   F-statistic:                     402.5\n",
       "Date:                Sat, 16 Jan 2021   Prob (F-statistic):          3.89e-272\n",
       "Time:                        13:25:17   Log-Likelihood:                -13282.\n",
       "No. Observations:                1095   AIC:                         2.658e+04\n",
       "Df Residuals:                    1088   BIC:                         2.661e+04\n",
       "Df Model:                           6                                         \n",
       "Covariance Type:            nonrobust                                         \n",
       "==================================================================================\n",
       "                     coef    std err          t      P>|t|      [0.025      0.975]\n",
       "----------------------------------------------------------------------------------\n",
       "const          -7.993e+05   1.05e+05     -7.644      0.000      -1e+06   -5.94e+05\n",
       "lotarea            1.2701      0.143      8.901      0.000       0.990       1.550\n",
       "overallqual     3.662e+04   1301.080     28.143      0.000    3.41e+04    3.92e+04\n",
       "yearbuilt        371.6358     55.111      6.743      0.000     263.500     479.771\n",
       "poolarea          51.9644     31.391      1.655      0.098      -9.629     113.558\n",
       "fireplaces      1.831e+04   2365.562      7.739      0.000    1.37e+04    2.29e+04\n",
       "No Sewer/Water -4.711e+04    4.5e+04     -1.047      0.296   -1.35e+05    4.12e+04\n",
       "==============================================================================\n",
       "Omnibus:                      492.205   Durbin-Watson:                   2.031\n",
       "Prob(Omnibus):                  0.000   Jarque-Bera (JB):             9228.373\n",
       "Skew:                           1.595   Prob(JB):                         0.00\n",
       "Kurtosis:                      16.860   Cond. No.                     1.12e+06\n",
       "==============================================================================\n",
       "\n",
       "Warnings:\n",
       "[1] Standard Errors assume that the covariance matrix of the errors is correctly specified.\n",
       "[2] The condition number is large, 1.12e+06. This might indicate that there are\n",
       "strong multicollinearity or other numerical problems.\n",
       "\"\"\""
      ]
     },
     "metadata": {},
     "output_type": "display_data"
    }
   ],
   "source": [
    "#check the results again using OLS\n",
    "houses_2_results = sm.OLS(houses_2_y_train, houses_2_X_train).fit()\n",
    "display(houses_2_results.summary())"
   ]
  },
  {
   "cell_type": "code",
   "execution_count": 54,
   "metadata": {},
   "outputs": [],
   "source": [
    "#this pushed the poolarea higher and utilities is too high, so we'll drop utilities\n",
    "houses_3_y = houseprices_df['saleprice']\n",
    "houses_3_X = houseprices_df[['lotarea', 'overallqual', 'yearbuilt', 'poolarea', 'fireplaces']]"
   ]
  },
  {
   "cell_type": "code",
   "execution_count": 55,
   "metadata": {},
   "outputs": [],
   "source": [
    "#create another testing and training set\n",
    "houses_3_X_train, houses_3_X_test, houses_3_y_train, houses_3_y_test = train_test_split(\n",
    "    houses_3_X, houses_3_y, random_state=10)\n",
    "houses_3_X_train = sm.add_constant(houses_3_X_train)\n",
    "houses_3_X_test = sm.add_constant(houses_3_X_test)"
   ]
  },
  {
   "cell_type": "code",
   "execution_count": 56,
   "metadata": {},
   "outputs": [
    {
     "data": {
      "text/html": [
       "<table class=\"simpletable\">\n",
       "<caption>OLS Regression Results</caption>\n",
       "<tr>\n",
       "  <th>Dep. Variable:</th>        <td>saleprice</td>    <th>  R-squared:         </th> <td>   0.689</td> \n",
       "</tr>\n",
       "<tr>\n",
       "  <th>Model:</th>                   <td>OLS</td>       <th>  Adj. R-squared:    </th> <td>   0.688</td> \n",
       "</tr>\n",
       "<tr>\n",
       "  <th>Method:</th>             <td>Least Squares</td>  <th>  F-statistic:       </th> <td>   482.8</td> \n",
       "</tr>\n",
       "<tr>\n",
       "  <th>Date:</th>             <td>Sat, 16 Jan 2021</td> <th>  Prob (F-statistic):</th> <td>2.91e-273</td>\n",
       "</tr>\n",
       "<tr>\n",
       "  <th>Time:</th>                 <td>13:27:06</td>     <th>  Log-Likelihood:    </th> <td> -13283.</td> \n",
       "</tr>\n",
       "<tr>\n",
       "  <th>No. Observations:</th>      <td>  1095</td>      <th>  AIC:               </th> <td>2.658e+04</td>\n",
       "</tr>\n",
       "<tr>\n",
       "  <th>Df Residuals:</th>          <td>  1089</td>      <th>  BIC:               </th> <td>2.661e+04</td>\n",
       "</tr>\n",
       "<tr>\n",
       "  <th>Df Model:</th>              <td>     5</td>      <th>                     </th>     <td> </td>    \n",
       "</tr>\n",
       "<tr>\n",
       "  <th>Covariance Type:</th>      <td>nonrobust</td>    <th>                     </th>     <td> </td>    \n",
       "</tr>\n",
       "</table>\n",
       "<table class=\"simpletable\">\n",
       "<tr>\n",
       "       <td></td>          <th>coef</th>     <th>std err</th>      <th>t</th>      <th>P>|t|</th>  <th>[0.025</th>    <th>0.975]</th>  \n",
       "</tr>\n",
       "<tr>\n",
       "  <th>const</th>       <td>-8.007e+05</td> <td> 1.05e+05</td> <td>   -7.658</td> <td> 0.000</td> <td>-1.01e+06</td> <td>-5.96e+05</td>\n",
       "</tr>\n",
       "<tr>\n",
       "  <th>lotarea</th>     <td>    1.2690</td> <td>    0.143</td> <td>    8.893</td> <td> 0.000</td> <td>    0.989</td> <td>    1.549</td>\n",
       "</tr>\n",
       "<tr>\n",
       "  <th>overallqual</th> <td> 3.662e+04</td> <td> 1301.134</td> <td>   28.144</td> <td> 0.000</td> <td> 3.41e+04</td> <td> 3.92e+04</td>\n",
       "</tr>\n",
       "<tr>\n",
       "  <th>yearbuilt</th>   <td>  372.3457</td> <td>   55.109</td> <td>    6.757</td> <td> 0.000</td> <td>  264.214</td> <td>  480.478</td>\n",
       "</tr>\n",
       "<tr>\n",
       "  <th>poolarea</th>    <td>   52.1097</td> <td>   31.392</td> <td>    1.660</td> <td> 0.097</td> <td>   -9.486</td> <td>  113.705</td>\n",
       "</tr>\n",
       "<tr>\n",
       "  <th>fireplaces</th>  <td> 1.826e+04</td> <td> 2365.311</td> <td>    7.721</td> <td> 0.000</td> <td> 1.36e+04</td> <td> 2.29e+04</td>\n",
       "</tr>\n",
       "</table>\n",
       "<table class=\"simpletable\">\n",
       "<tr>\n",
       "  <th>Omnibus:</th>       <td>492.014</td> <th>  Durbin-Watson:     </th> <td>   2.029</td>\n",
       "</tr>\n",
       "<tr>\n",
       "  <th>Prob(Omnibus):</th> <td> 0.000</td>  <th>  Jarque-Bera (JB):  </th> <td>9193.674</td>\n",
       "</tr>\n",
       "<tr>\n",
       "  <th>Skew:</th>          <td> 1.595</td>  <th>  Prob(JB):          </th> <td>    0.00</td>\n",
       "</tr>\n",
       "<tr>\n",
       "  <th>Kurtosis:</th>      <td>16.832</td>  <th>  Cond. No.          </th> <td>1.12e+06</td>\n",
       "</tr>\n",
       "</table><br/><br/>Warnings:<br/>[1] Standard Errors assume that the covariance matrix of the errors is correctly specified.<br/>[2] The condition number is large, 1.12e+06. This might indicate that there are<br/>strong multicollinearity or other numerical problems."
      ],
      "text/plain": [
       "<class 'statsmodels.iolib.summary.Summary'>\n",
       "\"\"\"\n",
       "                            OLS Regression Results                            \n",
       "==============================================================================\n",
       "Dep. Variable:              saleprice   R-squared:                       0.689\n",
       "Model:                            OLS   Adj. R-squared:                  0.688\n",
       "Method:                 Least Squares   F-statistic:                     482.8\n",
       "Date:                Sat, 16 Jan 2021   Prob (F-statistic):          2.91e-273\n",
       "Time:                        13:27:06   Log-Likelihood:                -13283.\n",
       "No. Observations:                1095   AIC:                         2.658e+04\n",
       "Df Residuals:                    1089   BIC:                         2.661e+04\n",
       "Df Model:                           5                                         \n",
       "Covariance Type:            nonrobust                                         \n",
       "===============================================================================\n",
       "                  coef    std err          t      P>|t|      [0.025      0.975]\n",
       "-------------------------------------------------------------------------------\n",
       "const       -8.007e+05   1.05e+05     -7.658      0.000   -1.01e+06   -5.96e+05\n",
       "lotarea         1.2690      0.143      8.893      0.000       0.989       1.549\n",
       "overallqual  3.662e+04   1301.134     28.144      0.000    3.41e+04    3.92e+04\n",
       "yearbuilt     372.3457     55.109      6.757      0.000     264.214     480.478\n",
       "poolarea       52.1097     31.392      1.660      0.097      -9.486     113.705\n",
       "fireplaces   1.826e+04   2365.311      7.721      0.000    1.36e+04    2.29e+04\n",
       "==============================================================================\n",
       "Omnibus:                      492.014   Durbin-Watson:                   2.029\n",
       "Prob(Omnibus):                  0.000   Jarque-Bera (JB):             9193.674\n",
       "Skew:                           1.595   Prob(JB):                         0.00\n",
       "Kurtosis:                      16.832   Cond. No.                     1.12e+06\n",
       "==============================================================================\n",
       "\n",
       "Warnings:\n",
       "[1] Standard Errors assume that the covariance matrix of the errors is correctly specified.\n",
       "[2] The condition number is large, 1.12e+06. This might indicate that there are\n",
       "strong multicollinearity or other numerical problems.\n",
       "\"\"\""
      ]
     },
     "metadata": {},
     "output_type": "display_data"
    }
   ],
   "source": [
    "#check the results again using OLS\n",
    "houses_3_results = sm.OLS(houses_3_y_train, houses_3_X_train).fit()\n",
    "display(houses_3_results.summary())"
   ]
  },
  {
   "cell_type": "code",
   "execution_count": 57,
   "metadata": {},
   "outputs": [],
   "source": [
    "#poolarea is still too high, so we'll cut that\n",
    "houses_4_y = houseprices_df['saleprice']\n",
    "houses_4_X = houseprices_df[['lotarea', 'overallqual', 'yearbuilt', 'fireplaces']]"
   ]
  },
  {
   "cell_type": "code",
   "execution_count": 58,
   "metadata": {},
   "outputs": [],
   "source": [
    "#create yet another testing and training set\n",
    "houses_4_X_train, houses_4_X_test, houses_4_y_train, houses_4_y_test = train_test_split(\n",
    "    houses_4_X, houses_4_y, random_state=10)\n",
    "houses_4_X_train = sm.add_constant(houses_4_X_train)\n",
    "houses_4_X_test = sm.add_constant(houses_4_X_test)"
   ]
  },
  {
   "cell_type": "code",
   "execution_count": 59,
   "metadata": {},
   "outputs": [
    {
     "data": {
      "text/html": [
       "<table class=\"simpletable\">\n",
       "<caption>OLS Regression Results</caption>\n",
       "<tr>\n",
       "  <th>Dep. Variable:</th>        <td>saleprice</td>    <th>  R-squared:         </th> <td>   0.688</td> \n",
       "</tr>\n",
       "<tr>\n",
       "  <th>Model:</th>                   <td>OLS</td>       <th>  Adj. R-squared:    </th> <td>   0.687</td> \n",
       "</tr>\n",
       "<tr>\n",
       "  <th>Method:</th>             <td>Least Squares</td>  <th>  F-statistic:       </th> <td>   601.8</td> \n",
       "</tr>\n",
       "<tr>\n",
       "  <th>Date:</th>             <td>Sat, 16 Jan 2021</td> <th>  Prob (F-statistic):</th> <td>4.40e-274</td>\n",
       "</tr>\n",
       "<tr>\n",
       "  <th>Time:</th>                 <td>13:29:22</td>     <th>  Log-Likelihood:    </th> <td> -13284.</td> \n",
       "</tr>\n",
       "<tr>\n",
       "  <th>No. Observations:</th>      <td>  1095</td>      <th>  AIC:               </th> <td>2.658e+04</td>\n",
       "</tr>\n",
       "<tr>\n",
       "  <th>Df Residuals:</th>          <td>  1090</td>      <th>  BIC:               </th> <td>2.660e+04</td>\n",
       "</tr>\n",
       "<tr>\n",
       "  <th>Df Model:</th>              <td>     4</td>      <th>                     </th>     <td> </td>    \n",
       "</tr>\n",
       "<tr>\n",
       "  <th>Covariance Type:</th>      <td>nonrobust</td>    <th>                     </th>     <td> </td>    \n",
       "</tr>\n",
       "</table>\n",
       "<table class=\"simpletable\">\n",
       "<tr>\n",
       "       <td></td>          <th>coef</th>     <th>std err</th>      <th>t</th>      <th>P>|t|</th>  <th>[0.025</th>    <th>0.975]</th>  \n",
       "</tr>\n",
       "<tr>\n",
       "  <th>const</th>       <td> -7.95e+05</td> <td> 1.05e+05</td> <td>   -7.602</td> <td> 0.000</td> <td>   -1e+06</td> <td> -5.9e+05</td>\n",
       "</tr>\n",
       "<tr>\n",
       "  <th>lotarea</th>     <td>    1.2843</td> <td>    0.143</td> <td>    9.013</td> <td> 0.000</td> <td>    1.005</td> <td>    1.564</td>\n",
       "</tr>\n",
       "<tr>\n",
       "  <th>overallqual</th> <td> 3.673e+04</td> <td> 1300.544</td> <td>   28.240</td> <td> 0.000</td> <td> 3.42e+04</td> <td> 3.93e+04</td>\n",
       "</tr>\n",
       "<tr>\n",
       "  <th>yearbuilt</th>   <td>  369.0490</td> <td>   55.118</td> <td>    6.696</td> <td> 0.000</td> <td>  260.901</td> <td>  477.197</td>\n",
       "</tr>\n",
       "<tr>\n",
       "  <th>fireplaces</th>  <td> 1.845e+04</td> <td> 2364.431</td> <td>    7.805</td> <td> 0.000</td> <td> 1.38e+04</td> <td> 2.31e+04</td>\n",
       "</tr>\n",
       "</table>\n",
       "<table class=\"simpletable\">\n",
       "<tr>\n",
       "  <th>Omnibus:</th>       <td>525.791</td> <th>  Durbin-Watson:     </th> <td>   2.031</td>\n",
       "</tr>\n",
       "<tr>\n",
       "  <th>Prob(Omnibus):</th> <td> 0.000</td>  <th>  Jarque-Bera (JB):  </th> <td>9904.427</td>\n",
       "</tr>\n",
       "<tr>\n",
       "  <th>Skew:</th>          <td> 1.747</td>  <th>  Prob(JB):          </th> <td>    0.00</td>\n",
       "</tr>\n",
       "<tr>\n",
       "  <th>Kurtosis:</th>      <td>17.314</td>  <th>  Cond. No.          </th> <td>1.12e+06</td>\n",
       "</tr>\n",
       "</table><br/><br/>Warnings:<br/>[1] Standard Errors assume that the covariance matrix of the errors is correctly specified.<br/>[2] The condition number is large, 1.12e+06. This might indicate that there are<br/>strong multicollinearity or other numerical problems."
      ],
      "text/plain": [
       "<class 'statsmodels.iolib.summary.Summary'>\n",
       "\"\"\"\n",
       "                            OLS Regression Results                            \n",
       "==============================================================================\n",
       "Dep. Variable:              saleprice   R-squared:                       0.688\n",
       "Model:                            OLS   Adj. R-squared:                  0.687\n",
       "Method:                 Least Squares   F-statistic:                     601.8\n",
       "Date:                Sat, 16 Jan 2021   Prob (F-statistic):          4.40e-274\n",
       "Time:                        13:29:22   Log-Likelihood:                -13284.\n",
       "No. Observations:                1095   AIC:                         2.658e+04\n",
       "Df Residuals:                    1090   BIC:                         2.660e+04\n",
       "Df Model:                           4                                         \n",
       "Covariance Type:            nonrobust                                         \n",
       "===============================================================================\n",
       "                  coef    std err          t      P>|t|      [0.025      0.975]\n",
       "-------------------------------------------------------------------------------\n",
       "const        -7.95e+05   1.05e+05     -7.602      0.000      -1e+06    -5.9e+05\n",
       "lotarea         1.2843      0.143      9.013      0.000       1.005       1.564\n",
       "overallqual  3.673e+04   1300.544     28.240      0.000    3.42e+04    3.93e+04\n",
       "yearbuilt     369.0490     55.118      6.696      0.000     260.901     477.197\n",
       "fireplaces   1.845e+04   2364.431      7.805      0.000    1.38e+04    2.31e+04\n",
       "==============================================================================\n",
       "Omnibus:                      525.791   Durbin-Watson:                   2.031\n",
       "Prob(Omnibus):                  0.000   Jarque-Bera (JB):             9904.427\n",
       "Skew:                           1.747   Prob(JB):                         0.00\n",
       "Kurtosis:                      17.314   Cond. No.                     1.12e+06\n",
       "==============================================================================\n",
       "\n",
       "Warnings:\n",
       "[1] Standard Errors assume that the covariance matrix of the errors is correctly specified.\n",
       "[2] The condition number is large, 1.12e+06. This might indicate that there are\n",
       "strong multicollinearity or other numerical problems.\n",
       "\"\"\""
      ]
     },
     "metadata": {},
     "output_type": "display_data"
    }
   ],
   "source": [
    "#check the results again using OLS\n",
    "houses_4_results = sm.OLS(houses_4_y_train, houses_4_X_train).fit()\n",
    "display(houses_4_results.summary())"
   ]
  },
  {
   "cell_type": "code",
   "execution_count": 61,
   "metadata": {},
   "outputs": [
    {
     "name": "stdout",
     "output_type": "stream",
     "text": [
      "Mean absolute error of the prediction is: 32145.912975018276\n",
      "Mean squared error of the prediction is: 1994192765.6777618\n",
      "Root mean squared error of the prediction is: 44656.38549723614\n",
      "Mean absolute percentage error of the prediction is: 20.24218773048806\n"
     ]
    }
   ],
   "source": [
    "#make predictions on the model test data\n",
    "houses_4_y_preds = houses_results.predict(houses_4_X_test)\n",
    "print(\"Mean absolute error of the prediction is: {}\".format(mean_absolute_error(houses_4_y_test, houses_4_y_preds)))\n",
    "print(\"Mean squared error of the prediction is: {}\".format(mse(houses_4_y_test, houses_4_y_preds)))\n",
    "print(\"Root mean squared error of the prediction is: {}\".format(rmse(houses_4_y_test, houses_4_y_preds)))\n",
    "print(\"Mean absolute percentage error of the prediction is: {}\".format(np.mean(np.abs((\n",
    "    houses_4_y_test - houses_4_y_preds) / houses_4_y_test)) * 100))"
   ]
  },
  {
   "cell_type": "markdown",
   "metadata": {},
   "source": [
    "In comparing the two sets of stats, the first model is better than the fourth. While the Adj. R-squared value isn't the greatest, it is high enough that I would be willing to use the model. However, I would continue tuning it to see if I could raise the R-squared value."
   ]
  }
 ],
 "metadata": {
  "kernelspec": {
   "display_name": "Python 3",
   "language": "python",
   "name": "python3"
  },
  "language_info": {
   "codemirror_mode": {
    "name": "ipython",
    "version": 3
   },
   "file_extension": ".py",
   "mimetype": "text/x-python",
   "name": "python",
   "nbconvert_exporter": "python",
   "pygments_lexer": "ipython3",
   "version": "3.8.3"
  }
 },
 "nbformat": 4,
 "nbformat_minor": 4
}
