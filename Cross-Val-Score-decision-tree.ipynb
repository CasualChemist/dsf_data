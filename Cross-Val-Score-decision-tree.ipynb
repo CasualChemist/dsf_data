{
 "cells": [
  {
   "cell_type": "code",
   "execution_count": 1,
   "metadata": {},
   "outputs": [],
   "source": [
    "#import the necessities\n",
    "import numpy as np\n",
    "import pandas as pd\n",
    "from sklearn.tree import DecisionTreeRegressor\n",
    "from sklearn.model_selection import cross_val_score, train_test_split"
   ]
  },
  {
   "cell_type": "code",
   "execution_count": 2,
   "metadata": {},
   "outputs": [],
   "source": [
    "cards = pd.read_csv('D:/DSF Files/cards.txt', sep='\\t')\n",
    "recent_cards = pd.read_csv('D:/DSF Files/recentcards.txt', sep = '\\t')\n",
    "cards.name = 'Cards'\n",
    "recent_cards.name = 'Recent Cards'"
   ]
  },
  {
   "cell_type": "code",
   "execution_count": 3,
   "metadata": {},
   "outputs": [],
   "source": [
    "def d_tree_boosted(depth, data, target):\n",
    "    print('\\nData used from {} dataset.'.format(data.name))\n",
    "    predictions = pd.DataFrame()\n",
    "    y = data[target]\n",
    "    X = data.drop([target], axis=1)\n",
    "    for n in range(0, 101):\n",
    "        decision_tree = DecisionTreeRegressor(max_depth=depth)\n",
    "        decision_tree.fit(X, y)\n",
    "        predict = decision_tree.predict(X)\n",
    "        predictions['predictions {}'.format(n)] = predict\n",
    "        y = y - predict\n",
    "    predicted = predictions.sum(axis=1)\n",
    "    print(\"Overall R^2 for {} after 100 iterations:\".format(target))\n",
    "    print(np.corrcoef(data[target], predicted)[0, 1])\n",
    "    score = cross_val_score(decision_tree, X, y, cv=5)\n",
    "    print(score)"
   ]
  },
  {
   "cell_type": "code",
   "execution_count": 4,
   "metadata": {},
   "outputs": [
    {
     "name": "stdout",
     "output_type": "stream",
     "text": [
      "\n",
      "Data used from Recent Cards dataset.\n",
      "Overall R^2 for Power after 100 iterations:\n",
      "0.9491838642518327\n",
      "[-0.04291651 -0.05527118 -0.06745156 -0.03287237 -0.09554474]\n"
     ]
    }
   ],
   "source": [
    "d_tree_boosted(4, recent_cards, 'Power')"
   ]
  },
  {
   "cell_type": "code",
   "execution_count": null,
   "metadata": {},
   "outputs": [],
   "source": []
  }
 ],
 "metadata": {
  "kernelspec": {
   "display_name": "Python 3",
   "language": "python",
   "name": "python3"
  },
  "language_info": {
   "codemirror_mode": {
    "name": "ipython",
    "version": 3
   },
   "file_extension": ".py",
   "mimetype": "text/x-python",
   "name": "python",
   "nbconvert_exporter": "python",
   "pygments_lexer": "ipython3",
   "version": "3.8.3"
  }
 },
 "nbformat": 4,
 "nbformat_minor": 4
}
