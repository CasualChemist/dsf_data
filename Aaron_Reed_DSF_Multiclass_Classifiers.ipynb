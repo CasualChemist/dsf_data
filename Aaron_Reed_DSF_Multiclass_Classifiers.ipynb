{
  "nbformat": 4,
  "nbformat_minor": 0,
  "metadata": {
    "colab": {
      "name": "Aaron Reed: DSF Multiclass Classifiers.ipynb",
      "provenance": [],
      "authorship_tag": "ABX9TyPOMiwnDXIp2yR7qgwF6jQn"
    },
    "kernelspec": {
      "name": "python3",
      "display_name": "Python 3"
    }
  },
  "cells": [
    {
      "cell_type": "code",
      "metadata": {
        "id": "VR0O1lTNdiw1"
      },
      "source": [
        "#import the necessities\r\n",
        "import matplotlib.pyplot as plt\r\n",
        "import numpy as np\r\n",
        "import pandas as pd\r\n",
        "import seaborn as sns\r\n",
        "from sklearn.ensemble import RandomForestClassifier\r\n",
        "from sklearn.metrics import classification_report, confusion_matrix\r\n",
        "from sklearn.model_selection import train_test_split, cross_val_score\r\n",
        "%matplotlib inline"
      ],
      "execution_count": 16,
      "outputs": []
    },
    {
      "cell_type": "markdown",
      "metadata": {
        "id": "paU94VdzekfM"
      },
      "source": [
        "Load the data\r\n",
        "1.   Import the load_digits function from the sklearn.datasets library\r\n",
        "2.   Invoke load_digits with the return_X_y parameter set to true and store the returned dataset in variable X and y."
      ]
    },
    {
      "cell_type": "code",
      "metadata": {
        "id": "JJm4iQqLeR7l"
      },
      "source": [
        "#load the dataset\r\n",
        "##normally I would include this in the call above but because\r\n",
        "##it's specifically part of this assignment, I put it here.\r\n",
        "from sklearn.datasets import load_digits\r\n",
        "X, y = load_digits(return_X_y=True)"
      ],
      "execution_count": 3,
      "outputs": []
    },
    {
      "cell_type": "markdown",
      "metadata": {
        "id": "UDPt0cCAfJB-"
      },
      "source": [
        "Exploratory Data Analysis<br>\r\n",
        "Perform a few exploratory steps including:\r\n",
        "\r\n",
        "1.   Display the number of rows of data returned\r\n",
        "2.   Display the number of features in the dataset\r\n",
        "3.   Use Numpy's **bincount** to display how many samples belong to each class. Is this a balanced dataset?"
      ]
    },
    {
      "cell_type": "code",
      "metadata": {
        "colab": {
          "base_uri": "https://localhost:8080/",
          "height": 68
        },
        "id": "x-1jNJDkf0tR",
        "outputId": "5a5675db-d80e-4612-8e1f-b0466192cdba"
      },
      "source": [
        "#printing strings with the required information\r\n",
        "print('The number of rows in the dataset is {:d}.'.format(X.shape[0]))\r\n",
        "print('The number of features in the dataset is {:d}.'.format(X.shape[1]))\r\n",
        "display(np.bincount(y))\r\n",
        "#most of the values are around 180, so the dataset seems well balanced"
      ],
      "execution_count": 13,
      "outputs": [
        {
          "output_type": "stream",
          "text": [
            "The number of rows in the dataset is 1797.\n",
            "The number of features in the dataset is 64.\n"
          ],
          "name": "stdout"
        },
        {
          "output_type": "display_data",
          "data": {
            "text/plain": [
              "array([178, 182, 177, 183, 181, 182, 181, 179, 174, 180])"
            ]
          },
          "metadata": {
            "tags": []
          }
        }
      ]
    },
    {
      "cell_type": "markdown",
      "metadata": {
        "id": "SCH9VXuygiEk"
      },
      "source": [
        "Prepare training and testing data\r\n",
        "\r\n",
        "1.   Use train_test_split to split the dataset into a training set and a test set. Set the proportion of test data to 20%. Set a random state value so that the results will be repeatable."
      ]
    },
    {
      "cell_type": "code",
      "metadata": {
        "id": "r1BoIoG5fseS"
      },
      "source": [
        "#comment code because I'm trying to get into the habit of including\r\n",
        "#comment code in all cells, though there isn't really any information I can\r\n",
        "#add to this\r\n",
        "X_train, X_test, y_train, y_test = train_test_split(X, y, test_size=0.2, random_state=10)"
      ],
      "execution_count": 12,
      "outputs": []
    },
    {
      "cell_type": "markdown",
      "metadata": {
        "id": "EI3gRfO8hMN0"
      },
      "source": [
        "Cross validation with Logistic Regression<br>\r\n",
        "In this step you will create a LogisticRegression classifier and use 5-fold cross validation to train the model.\r\n",
        "\r\n",
        "1.   Import LogisticRegression classifier from sklearn\r\n",
        "2.   instantiate a LogisticRegression classifier with the 'lbfgs' solver and 'ovr' multiclass strategy. You may have to set the maximum number of iterations to 1000.\r\n",
        "3.   Perform cross validation on the model\r\n",
        "4.   Print the cross validation scores and the mean of the cross validation scores."
      ]
    },
    {
      "cell_type": "code",
      "metadata": {
        "id": "3OhZI9T8hLNs"
      },
      "source": [
        "#importing LogisticRegression\r\n",
        "##normally, I call all of these at the same time, but will\r\n",
        "##call it here for the assignment\r\n",
        "from sklearn.linear_model import LogisticRegression\r\n",
        "#setting the max to 1000 to be safe\r\n",
        "lr_clf = LogisticRegression(solver='lbfgs', multi_class='ovr', max_iter=1000)"
      ],
      "execution_count": 15,
      "outputs": []
    },
    {
      "cell_type": "code",
      "metadata": {
        "colab": {
          "base_uri": "https://localhost:8080/"
        },
        "id": "a9AtLcr2i7uO",
        "outputId": "aa532c63-1652-4446-a39b-1b3ead183b2c"
      },
      "source": [
        "#cross validation\r\n",
        "##as a note, you didn't state to do a five fold in the question\r\n",
        "##but in the print statement below it, it shows that 5 folds are\r\n",
        "##needed. could that be added into 3. in the markdown?\r\n",
        "lr_cv_scores = cross_val_score(lr_clf, X_train, y_train, cv=5)\r\n",
        "#print the results\r\n",
        "print('Accuracy scores for the 5 folds: ', lr_cv_scores)\r\n",
        "print('Mean cross validation scores: {:.3f}'.format(lr_cv_scores.mean()))"
      ],
      "execution_count": 18,
      "outputs": [
        {
          "output_type": "stream",
          "text": [
            "Accuracy scores for the 5 folds:  [0.95833333 0.95486111 0.95121951 0.96515679 0.96515679]\n",
            "Mean cross validation scores: 0.959\n"
          ],
          "name": "stdout"
        }
      ]
    },
    {
      "cell_type": "markdown",
      "metadata": {
        "id": "HsTQ7aE_lNNF"
      },
      "source": [
        "Cross validation with RandomForest\r\n",
        "1.   Perform the same steps as above but this time with a RandomForestClassifier."
      ]
    },
    {
      "cell_type": "code",
      "metadata": {
        "colab": {
          "base_uri": "https://localhost:8080/"
        },
        "id": "OPtjSuK1kZSK",
        "outputId": "77a4cb1a-fe40-4010-e2f8-a1de283be489"
      },
      "source": [
        "#RandomForest was imported above\r\n",
        "##similar to above, n_estimators=24 was given in the code but \r\n",
        "##not in the markdown. since I've written all the code, I would\r\n",
        "##have liked to see that in the markdown so I wouldn't have to\r\n",
        "##reference the code template\r\n",
        "rf_clf = RandomForestClassifier(n_estimators=24)\r\n",
        "rf_cv_scores = cross_val_score(rf_clf, X_train, y_train, cv=5)\r\n",
        "print('Accuracy scores for the 5 folds: ', rf_cv_scores)\r\n",
        "print('Mean cross validation scores: {:.3f}'.format(rf_cv_scores.mean()))"
      ],
      "execution_count": 20,
      "outputs": [
        {
          "output_type": "stream",
          "text": [
            "Accuracy scores for the 5 folds:  [0.96180556 0.96875    0.97212544 0.97212544 0.95470383]\n",
            "Mean cross validation scores: 0.966\n"
          ],
          "name": "stdout"
        }
      ]
    },
    {
      "cell_type": "code",
      "metadata": {
        "id": "squ7PhoimYDb"
      },
      "source": [
        ""
      ],
      "execution_count": null,
      "outputs": []
    }
  ]
}