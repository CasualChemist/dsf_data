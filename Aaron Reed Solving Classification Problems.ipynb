{
 "cells": [
  {
   "cell_type": "code",
   "execution_count": 133,
   "metadata": {},
   "outputs": [],
   "source": [
    "#import the necessities\n",
    "import matplotlib.pyplot as plt\n",
    "import numpy as np\n",
    "import pandas as pd\n",
    "from sklearn.dummy import DummyClassifier\n",
    "from sklearn.ensemble import RandomForestClassifier\n",
    "from sklearn.linear_model import LogisticRegression\n",
    "from sklearn.metrics import confusion_matrix, accuracy_score, precision_score, recall_score, f1_score, fbeta_score\n",
    "from sklearn.metrics import classification_report, roc_curve, precision_recall_curve, roc_auc_score\n",
    "from sklearn.model_selection import train_test_split, cross_val_score\n",
    "from sklearn.neighbors import KNeighborsClassifier\n",
    "from sklearn.utils.multiclass import unique_labels\n",
    "%matplotlib inline"
   ]
  },
  {
   "cell_type": "code",
   "execution_count": 58,
   "metadata": {},
   "outputs": [],
   "source": [
    "#get the data\n",
    "##the sample notebook uses the .tst file, but I think the .trn file\n",
    "##was the one meant as the training file\n",
    "df_train_data = pd.read_csv('D:/DSF/shuttle.trn', header=None, sep=' ')\n",
    "df_test_data = pd.read_csv('D:/DSF/shuttle.tst', header=None, sep=' ')"
   ]
  },
  {
   "cell_type": "code",
   "execution_count": 28,
   "metadata": {},
   "outputs": [
    {
     "data": {
      "text/html": [
       "<div>\n",
       "<style scoped>\n",
       "    .dataframe tbody tr th:only-of-type {\n",
       "        vertical-align: middle;\n",
       "    }\n",
       "\n",
       "    .dataframe tbody tr th {\n",
       "        vertical-align: top;\n",
       "    }\n",
       "\n",
       "    .dataframe thead th {\n",
       "        text-align: right;\n",
       "    }\n",
       "</style>\n",
       "<table border=\"1\" class=\"dataframe\">\n",
       "  <thead>\n",
       "    <tr style=\"text-align: right;\">\n",
       "      <th></th>\n",
       "      <th>0</th>\n",
       "      <th>1</th>\n",
       "      <th>2</th>\n",
       "      <th>3</th>\n",
       "      <th>4</th>\n",
       "      <th>5</th>\n",
       "      <th>6</th>\n",
       "      <th>7</th>\n",
       "      <th>8</th>\n",
       "      <th>9</th>\n",
       "    </tr>\n",
       "  </thead>\n",
       "  <tbody>\n",
       "    <tr>\n",
       "      <th>0</th>\n",
       "      <td>50</td>\n",
       "      <td>21</td>\n",
       "      <td>77</td>\n",
       "      <td>0</td>\n",
       "      <td>28</td>\n",
       "      <td>0</td>\n",
       "      <td>27</td>\n",
       "      <td>48</td>\n",
       "      <td>22</td>\n",
       "      <td>2</td>\n",
       "    </tr>\n",
       "    <tr>\n",
       "      <th>1</th>\n",
       "      <td>55</td>\n",
       "      <td>0</td>\n",
       "      <td>92</td>\n",
       "      <td>0</td>\n",
       "      <td>0</td>\n",
       "      <td>26</td>\n",
       "      <td>36</td>\n",
       "      <td>92</td>\n",
       "      <td>56</td>\n",
       "      <td>4</td>\n",
       "    </tr>\n",
       "    <tr>\n",
       "      <th>2</th>\n",
       "      <td>53</td>\n",
       "      <td>0</td>\n",
       "      <td>82</td>\n",
       "      <td>0</td>\n",
       "      <td>52</td>\n",
       "      <td>-5</td>\n",
       "      <td>29</td>\n",
       "      <td>30</td>\n",
       "      <td>2</td>\n",
       "      <td>1</td>\n",
       "    </tr>\n",
       "    <tr>\n",
       "      <th>3</th>\n",
       "      <td>37</td>\n",
       "      <td>0</td>\n",
       "      <td>76</td>\n",
       "      <td>0</td>\n",
       "      <td>28</td>\n",
       "      <td>18</td>\n",
       "      <td>40</td>\n",
       "      <td>48</td>\n",
       "      <td>8</td>\n",
       "      <td>1</td>\n",
       "    </tr>\n",
       "    <tr>\n",
       "      <th>4</th>\n",
       "      <td>37</td>\n",
       "      <td>0</td>\n",
       "      <td>79</td>\n",
       "      <td>0</td>\n",
       "      <td>34</td>\n",
       "      <td>-26</td>\n",
       "      <td>43</td>\n",
       "      <td>46</td>\n",
       "      <td>2</td>\n",
       "      <td>1</td>\n",
       "    </tr>\n",
       "  </tbody>\n",
       "</table>\n",
       "</div>"
      ],
      "text/plain": [
       "    0   1   2  3   4   5   6   7   8  9\n",
       "0  50  21  77  0  28   0  27  48  22  2\n",
       "1  55   0  92  0   0  26  36  92  56  4\n",
       "2  53   0  82  0  52  -5  29  30   2  1\n",
       "3  37   0  76  0  28  18  40  48   8  1\n",
       "4  37   0  79  0  34 -26  43  46   2  1"
      ]
     },
     "execution_count": 28,
     "metadata": {},
     "output_type": "execute_result"
    }
   ],
   "source": [
    "#for these, I prefer to have a copy of the df readily available\n",
    "#to allow for an easy reset\n",
    "df_copy = df_train_data.copy()\n",
    "df_copy.head()"
   ]
  },
  {
   "cell_type": "code",
   "execution_count": 93,
   "metadata": {},
   "outputs": [],
   "source": [
    "#setting a binary set in column 9\n",
    "##the sample book shows the code as follows:\n",
    "##df_train_data.loc[df_train_data[9] != 4, 9] = 0\n",
    "##however, there are no 9s in the 9 column, so\n",
    "##I am unsure what the point of that is\n",
    "df_train_data.loc[df_train_data[9] != 4, 9] = 0\n",
    "df_train_data.loc[df_train_data[9] == 4, 9] = 1"
   ]
  },
  {
   "cell_type": "code",
   "execution_count": 94,
   "metadata": {},
   "outputs": [],
   "source": [
    "#making two new dfs, one with the binary values\n",
    "#and one with the rest of the values\n",
    "X = df_train_data.drop([9], axis=1)\n",
    "y = df_train_data[9]"
   ]
  },
  {
   "cell_type": "code",
   "execution_count": 95,
   "metadata": {},
   "outputs": [],
   "source": [
    "#creating a test and train sample from the training\n",
    "#set to work with. it doesn't state that we should\n",
    "#use a random state, so one won't be used here\n",
    "X_train, X_test, y_train, y_test = train_test_split(X, y)"
   ]
  },
  {
   "cell_type": "code",
   "execution_count": 96,
   "metadata": {},
   "outputs": [],
   "source": [
    "#run the logistic regression. it doesn't state a penalty\n",
    "#to use or a number of iterations to run, so we'll\n",
    "#leave those blank for now\n",
    "lr = LogisticRegression(solver='lbfgs', max_iter=1000)"
   ]
  },
  {
   "cell_type": "code",
   "execution_count": 97,
   "metadata": {},
   "outputs": [
    {
     "data": {
      "text/plain": [
       "0.8185747126436782"
      ]
     },
     "execution_count": 97,
     "metadata": {},
     "output_type": "execute_result"
    }
   ],
   "source": [
    "#fit the data\n",
    "lr.fit(X_train, y_train)\n",
    "#print the score\n",
    "lr.score(X_test, y_test)"
   ]
  },
  {
   "cell_type": "code",
   "execution_count": 98,
   "metadata": {},
   "outputs": [
    {
     "data": {
      "text/plain": [
       "0.8471724137931035"
      ]
     },
     "execution_count": 98,
     "metadata": {},
     "output_type": "execute_result"
    }
   ],
   "source": [
    "#make a dummy classifier, run it, and compare\n",
    "dummy = DummyClassifier(strategy = 'most_frequent')\n",
    "dummy.fit(X_train, y_train)\n",
    "dummy.score(X_test, y_test)\n",
    "###the classifier has a ~-3% difference relative to\n",
    "###the dummy, so our predictor needs some work"
   ]
  },
  {
   "cell_type": "code",
   "execution_count": 107,
   "metadata": {},
   "outputs": [
    {
     "name": "stdout",
     "output_type": "stream",
     "text": [
      "[[ 115 1547]\n",
      " [ 426 8787]]\n"
     ]
    }
   ],
   "source": [
    "#print a confusion matrix\n",
    "predictions = lr.predict(X_test)\n",
    "confusion = confusion_matrix(y_test, predictions, labels=[1,0])\n",
    "print(confusion)\n",
    "###looks like we have a lot of false negatives"
   ]
  },
  {
   "cell_type": "code",
   "execution_count": 110,
   "metadata": {},
   "outputs": [
    {
     "name": "stdout",
     "output_type": "stream",
     "text": [
      "F1 score: 0.10\n",
      "Fbeta favoring precision score: 0.15\n",
      "Fbeta favoring recall score: 0.08\n",
      "Precision score: 0.21\n",
      "Recall score: 0.07\n",
      "Accuracy score: 0.82\n"
     ]
    }
   ],
   "source": [
    "#run metric tests\n",
    "#f1, fbeta, precision, recall, accuracy\n",
    "f1 = f1_score(y_test, predictions)\n",
    "print(\"F1 score: {:.2f}\".format(f1))\n",
    "fbeta_precision = fbeta_score(y_test, predictions, 0.5)\n",
    "print(\"Fbeta favoring precision score: {:.2f}\".format(fbeta_precision))\n",
    "fbeta_recall = fbeta_score(y_test, predictions, 2.0)\n",
    "print(\"Fbeta favoring recall score: {:.2f}\".format(fbeta_recall))\n",
    "precision = precision_score(y_test, predictions)\n",
    "print(\"Precision score: {:.2f}\".format(precision))\n",
    "recall = recall_score(y_test, predictions)\n",
    "print(\"Recall score: {:.2f}\".format(recall))\n",
    "accuracy = accuracy_score(y_test, predictions)\n",
    "print(\"Accuracy score: {:.2f}\".format(accuracy))"
   ]
  },
  {
   "cell_type": "code",
   "execution_count": 109,
   "metadata": {},
   "outputs": [
    {
     "name": "stdout",
     "output_type": "stream",
     "text": [
      "              precision    recall  f1-score   support\n",
      "\n",
      "       Not 4       0.85      0.95      0.90      9213\n",
      "           4       0.21      0.07      0.10      1662\n",
      "\n",
      "    accuracy                           0.82     10875\n",
      "   macro avg       0.53      0.51      0.50     10875\n",
      "weighted avg       0.75      0.82      0.78     10875\n",
      "\n"
     ]
    }
   ],
   "source": [
    "#run a classification report\n",
    "report = classification_report(y_test, predictions, target_names=['Not 4', '4'])\n",
    "print(report)"
   ]
  },
  {
   "cell_type": "code",
   "execution_count": 116,
   "metadata": {},
   "outputs": [
    {
     "data": {
      "image/png": "[encoded data removed]",
      "text/plain": [
       "<Figure size 432x432 with 1 Axes>"
      ]
     },
     "metadata": {
      "needs_background": "light"
     },
     "output_type": "display_data"
    }
   ],
   "source": [
    "#make a ROC curve\n",
    "probs = lr.predict_proba(X_test)[:, 1]\n",
    "fpr, tpr, thresholds = roc_curve(y_test, probs)\n",
    "plt.figure(figsize=(6,6))\n",
    "plt.plot([0, 1], [0, 1], 'k--')\n",
    "plt.plot(fpr, tpr)\n",
    "plt.show()"
   ]
  },
  {
   "cell_type": "code",
   "execution_count": 121,
   "metadata": {},
   "outputs": [
    {
     "name": "stdout",
     "output_type": "stream",
     "text": [
      "0.841\n"
     ]
    }
   ],
   "source": [
    "#calculate the auc\n",
    "auc = roc_auc_score(y_test, probs)\n",
    "print('{:.3f}'.format(auc))"
   ]
  },
  {
   "cell_type": "code",
   "execution_count": 118,
   "metadata": {},
   "outputs": [
    {
     "data": {
      "image/png": "[encoded data removed]",
      "text/plain": [
       "<Figure size 432x432 with 1 Axes>"
      ]
     },
     "metadata": {
      "needs_background": "light"
     },
     "output_type": "display_data"
    }
   ],
   "source": [
    "#make a precision-recall curve\n",
    "pres, rec, thresholds = precision_recall_curve(y_test, predictions)\n",
    "plt.figure(figsize=(6,6))\n",
    "plt.plot(rec, pres)\n",
    "plt.show()"
   ]
  },
  {
   "cell_type": "code",
   "execution_count": 124,
   "metadata": {},
   "outputs": [
    {
     "name": "stdout",
     "output_type": "stream",
     "text": [
      "[0.8148659  0.82130268 0.81425287 0.81624521 0.81885057]\n",
      "0.8171034482758621\n"
     ]
    }
   ],
   "source": [
    "#run cross-validation tests\n",
    "cv_scores = cross_val_score(lr, X_train, y_train, cv=5)\n",
    "print(cv_scores)\n",
    "print(cv_scores.mean())"
   ]
  },
  {
   "cell_type": "code",
   "execution_count": 129,
   "metadata": {},
   "outputs": [
    {
     "name": "stdout",
     "output_type": "stream",
     "text": [
      "0.999\n"
     ]
    }
   ],
   "source": [
    "#run a knn with k=7\n",
    "knn = KNeighborsClassifier(n_neighbors=7)\n",
    "knn.fit(X_train, y_train)\n",
    "print('{:.3f}'.format(knn.score(X_test, y_test)))\n",
    "###it is significantly more accurate, meaning\n",
    "###the data is likely non-linear"
   ]
  },
  {
   "cell_type": "code",
   "execution_count": 138,
   "metadata": {},
   "outputs": [
    {
     "name": "stdout",
     "output_type": "stream",
     "text": [
      "1.000\n"
     ]
    }
   ],
   "source": [
    "#run a random forest test\n",
    "rf = RandomForestClassifier(n_estimators = 40)\n",
    "rf.fit(X_train, y_train)\n",
    "print('{:.3f}'.format(rf.score(X_test, y_test)))"
   ]
  },
  {
   "cell_type": "code",
   "execution_count": null,
   "metadata": {},
   "outputs": [],
   "source": []
  }
 ],
 "metadata": {
  "kernelspec": {
   "display_name": "Python 3",
   "language": "python",
   "name": "python3"
  },
  "language_info": {
   "codemirror_mode": {
    "name": "ipython",
    "version": 3
   },
   "file_extension": ".py",
   "mimetype": "text/x-python",
   "name": "python",
   "nbconvert_exporter": "python",
   "pygments_lexer": "ipython3",
   "version": "3.8.3"
  }
 },
 "nbformat": 4,
 "nbformat_minor": 4
}
