{
 "cells": [
  {
   "cell_type": "markdown",
   "metadata": {},
   "source": [
    "This is the data cleaning and feature engineering aspect of the Supervised Learning capstone."
   ]
  },
  {
   "cell_type": "code",
   "execution_count": 1,
   "metadata": {},
   "outputs": [],
   "source": [
    "#import the necessities\n",
    "import numpy as np\n",
    "import pandas as pd"
   ]
  },
  {
   "cell_type": "code",
   "execution_count": 2,
   "metadata": {},
   "outputs": [],
   "source": [
    "#get the data which will become our model\n",
    "df = pd.read_csv('D:/Downloads/cardsutf8.txt', sep='\\t', encoding='latin1', low_memory=False)"
   ]
  },
  {
   "cell_type": "code",
   "execution_count": 3,
   "metadata": {},
   "outputs": [
    {
     "data": {
      "text/plain": [
       "Index(['index', 'id', 'artist', 'asciiName', 'availability', 'borderColor',\n",
       "       'cardKingdomFoilId', 'cardKingdomId', 'colorIdentity', 'colorIndicator',\n",
       "       'colors', 'convertedManaCost', 'duelDeck', 'edhrecRank',\n",
       "       'faceConvertedManaCost', 'faceName', 'flavorName', 'flavorText',\n",
       "       'frameEffects', 'frameVersion', 'hand', 'hasAlternativeDeckLimit',\n",
       "       'hasContentWarning', 'hasFoil', 'hasNonFoil', 'isAlternative',\n",
       "       'isFullArt', 'isOnlineOnly', 'isOversized', 'isPromo', 'isReprint',\n",
       "       'isReserved', 'isStarter', 'isStorySpotlight', 'isTextless',\n",
       "       'isTimeshifted', 'keywords', 'layout', 'leadershipSkills', 'life',\n",
       "       'loyalty', 'manaCost', 'mcmId', 'mcmMetaId', 'mtgArenaId',\n",
       "       'mtgjsonV4Id', 'mtgoFoilId', 'mtgoId', 'multiverseId', 'name', 'number',\n",
       "       'originalReleaseDate', 'originalText', 'originalType', 'otherFaceIds',\n",
       "       'power', 'printings', 'promoTypes', 'purchaseUrls', 'rarity',\n",
       "       'scryfallId', 'scryfallIllustrationId', 'scryfallOracleId', 'setCode',\n",
       "       'side', 'subtypes', 'supertypes', 'tcgplayerProductId', 'text',\n",
       "       'toughness', 'type', 'types', 'uuid', 'variations', 'watermark'],\n",
       "      dtype='object')"
      ]
     },
     "execution_count": 3,
     "metadata": {},
     "output_type": "execute_result"
    }
   ],
   "source": [
    "#check the data (specifically the columns)\n",
    "df.columns"
   ]
  },
  {
   "cell_type": "code",
   "execution_count": 4,
   "metadata": {},
   "outputs": [],
   "source": [
    "#strip away the useless information. for this model, we're focused\n",
    "#on what the physical card has, not external attributes like price\n",
    "#or cardkingdom/scryfall id. we're also not going to need things that\n",
    "#can't affect power or toughness, like artist or frameEffects.\n",
    "cards = df[['name', 'setCode', 'borderColor', 'colors', 'convertedManaCost', 'keywords', \n",
    "            'manaCost', 'power', 'rarity', 'supertypes', 'text', 'toughness', 'type']]\n",
    "#probably drop originalReleaseDate since it has less than 2000 relative to the rest\n",
    "#having 20,000. Sub-types probably can be dropped as well, since there's too many variances\n",
    "#keywords has a group that commonly appears, so we'll use that as our baseline for that\n",
    "#printings was going to be used as a way to say hoe many times an individual card has been\n",
    "#printed, but it turns out that each printing is its own row, so that won't be necessary\n"
   ]
  },
  {
   "cell_type": "code",
   "execution_count": 5,
   "metadata": {},
   "outputs": [
    {
     "name": "stdout",
     "output_type": "stream",
     "text": [
      "<class 'pandas.core.frame.DataFrame'>\n",
      "RangeIndex: 56832 entries, 0 to 56831\n",
      "Data columns (total 13 columns):\n",
      " #   Column             Non-Null Count  Dtype  \n",
      "---  ------             --------------  -----  \n",
      " 0   name               56832 non-null  object \n",
      " 1   setCode            56832 non-null  object \n",
      " 2   borderColor        56832 non-null  object \n",
      " 3   colors             44292 non-null  object \n",
      " 4   convertedManaCost  56832 non-null  float64\n",
      " 5   keywords           20648 non-null  object \n",
      " 6   manaCost           49509 non-null  object \n",
      " 7   power              26207 non-null  object \n",
      " 8   rarity             56832 non-null  object \n",
      " 9   supertypes         7840 non-null   object \n",
      " 10  text               55877 non-null  object \n",
      " 11  toughness          26207 non-null  object \n",
      " 12  type               56832 non-null  object \n",
      "dtypes: float64(1), object(12)\n",
      "memory usage: 5.6+ MB\n"
     ]
    }
   ],
   "source": [
    "#check the data to see what might be useful\n",
    "cards.info()\n",
    "#almost all of them are objects, but that's fine, as some of them\n",
    "#just need a few columns cleaned and some of them can be changed\n",
    "#into dummies\n",
    "#for now, let's cull some of the more useless attributes."
   ]
  },
  {
   "cell_type": "code",
   "execution_count": 6,
   "metadata": {},
   "outputs": [],
   "source": [
    "#gold and silver cards are not legal for play and borderless is just a frame type\n",
    "#so strip away all but black and white border\n",
    "cards = cards[(cards['borderColor'] != 'borderless') & (cards['borderColor'] != 'silver')\n",
    "             & (cards['borderColor'] != 'gold')]"
   ]
  },
  {
   "cell_type": "code",
   "execution_count": 7,
   "metadata": {},
   "outputs": [],
   "source": [
    "#we're only going to use this model for creatures, as those less variance than other\n",
    "#types of cards\n",
    "cards = cards[cards['type'].str.contains('Creature')]"
   ]
  },
  {
   "cell_type": "code",
   "execution_count": 8,
   "metadata": {},
   "outputs": [],
   "source": [
    "#some of the powers aren't integers due to effects, so since those aren't easily\n",
    "#predictable, we'll drop the problem cards\n",
    "cards = cards[(cards['power'] != '*') & (cards['power'] != '1+*') & \n",
    "              (cards['power'] != '2+*') & (cards['power'] != '?')]\n",
    "#same with toughness\n",
    "cards = cards[(cards['toughness'] != '*') & (cards['toughness'] != '1+*')]\n",
    "#and a weird one where the manaCost = {S}\n",
    "cards = cards[cards['manaCost'] != '{S}']"
   ]
  },
  {
   "cell_type": "code",
   "execution_count": 9,
   "metadata": {},
   "outputs": [],
   "source": [
    "#these columns are useful but would be more useful as numbers\n",
    "cards['power'] = cards['power'].astype(int)\n",
    "cards['toughness'] = cards['toughness'].astype(int)\n",
    "cards['convertedManaCost'] = cards['convertedManaCost'].astype(int)"
   ]
  },
  {
   "cell_type": "code",
   "execution_count": 10,
   "metadata": {},
   "outputs": [],
   "source": [
    "#the nulls in colors relate to colorless creatures, so we'll\n",
    "#fill that with C to represent those. \n",
    "cards['colors'] = cards['colors'].fillna('C')\n",
    "#the nulls in keywords means nothing there, so we'll fill\n",
    "#that null with \"No Keywords\"\n",
    "cards['keywords'] = cards['keywords'].fillna('No keywords')"
   ]
  },
  {
   "cell_type": "code",
   "execution_count": 11,
   "metadata": {},
   "outputs": [],
   "source": [
    "#while I wish we could just use get_dummies to get what I want from here, there\n",
    "#are too many different values and combination of values for get_dummies to be\n",
    "#useful, so instead, we'll just use np.where to get the dummies individually\n",
    "cards['White'] = np.where(cards['colors'].str.contains('W'), 1, 0)\n",
    "cards['Blue'] = np.where(cards['colors'].str.contains('U'), 1, 0)\n",
    "cards['Black'] = np.where(cards['colors'].str.contains('B'), 1, 0)\n",
    "cards['Red'] = np.where(cards['colors'].str.contains('R'), 1, 0)\n",
    "cards['Green'] = np.where(cards['colors'].str.contains('G'), 1, 0)"
   ]
  },
  {
   "cell_type": "code",
   "execution_count": 12,
   "metadata": {},
   "outputs": [],
   "source": [
    "#same as above\n",
    "cards['Deathtouch'] = np.where(cards['keywords'].str.contains('Deathtouch'), 1, 0)\n",
    "cards['Defender'] = np.where(cards['keywords'].str.contains('Defender'), 1, 0)\n",
    "cards['Double strike'] = np.where(cards['keywords'].str.contains('Double strike'), 1, 0)\n",
    "cards['First strike'] = np.where(cards['keywords'].str.contains('First strike'), 1, 0)\n",
    "cards['Flash'] = np.where(cards['keywords'].str.contains('Flash'), 1, 0)\n",
    "cards['Flying'] = np.where(cards['keywords'].str.contains('Flying'), 1, 0)\n",
    "cards['Haste'] = np.where(cards['keywords'].str.contains('Haste'), 1, 0)\n",
    "cards['Hexproof1'] = np.where(cards['keywords'].str.contains('Hexproof'), 1, 0)\n",
    "cards['Indestructible1'] = np.where(cards['keywords'].str.contains('Indestructible'), 1, 0)\n",
    "cards['Lifelink'] = np.where(cards['keywords'].str.contains('Lifelink'), 1, 0)\n",
    "cards['Menace1'] = np.where(cards['keywords'].str.contains('Menace'), 1, 0)\n",
    "cards['Protection'] = np.where(cards['keywords'].str.contains('Protection'), 1, 0)\n",
    "cards['Reach'] = np.where(cards['keywords'].str.contains('Reach'), 1, 0)\n",
    "cards['Trample'] = np.where(cards['keywords'].str.contains('Trample'), 1, 0)\n",
    "cards['Vigilance'] = np.where(cards['keywords'].str.contains('Vigilance'), 1, 0)\n",
    "cards['Fear1'] = np.where(cards['keywords'].str.contains('Fear'), 1, 0)\n",
    "cards['Shroud1'] = np.where(cards['keywords'].str.contains('Shroud'), 1, 0)\n",
    "cards['Intimidate1'] = np.where(cards['keywords'].str.contains('Intimidate'), 1, 0)\n",
    "cards['Regenerate1'] = np.where(cards['text'].str.contains('Regenerate'), 1, 0)\n",
    "cards['Fight'] = np.where(cards['keywords'].str.contains('Fight'), 1, 0)\n",
    "cards['Mill'] = np.where(cards['keywords'].str.contains('Mill'), 1, 0)\n",
    "cards['Scry'] = np.where(cards['keywords'].str.contains('Scry'), 1, 0)"
   ]
  },
  {
   "cell_type": "code",
   "execution_count": 13,
   "metadata": {},
   "outputs": [],
   "source": [
    "#Regenerate, Fear, Intimidate, and Shroud were all supplanted by keywords later,\n",
    "#so to aid our analysis, we'll pretend that original and supplanted keywords, like indestructible and \n",
    "#regenerate are interchangable, which functionally, is a correct statement\n",
    "cards['Regenerate / Indestructible'] = (cards['Indestructible1'] + cards['Regenerate1'])\n",
    "cards['Fear / Intimidate / Menace'] = (cards['Intimidate1'] + cards['Menace1'] + cards['Fear1'])\n",
    "cards['Shroud / Hexproof'] = cards['Hexproof1'] + cards['Shroud1']"
   ]
  },
  {
   "cell_type": "code",
   "execution_count": 14,
   "metadata": {},
   "outputs": [],
   "source": [
    "#some of the cards are legendary, which might have an effect.\n",
    "dummy = pd.get_dummies(cards['supertypes'])\n",
    "cards['Legendary'] = dummy['Legendary'].astype(int)"
   ]
  },
  {
   "cell_type": "code",
   "execution_count": 15,
   "metadata": {},
   "outputs": [],
   "source": [
    "#rarity has four possible values, so we'll use get the dummies\n",
    "#for those and add them in\n",
    "dummy = pd.get_dummies(cards['rarity'])\n",
    "cards['Uncommon'] = dummy['uncommon'].astype(int)\n",
    "cards['Rare'] = dummy['rare'].astype(int)\n",
    "cards['Mythic'] = dummy['mythic'].astype(int)"
   ]
  },
  {
   "cell_type": "code",
   "execution_count": 16,
   "metadata": {},
   "outputs": [],
   "source": [
    "#this is super messy but I don't know a better way to extract the number\n",
    "#from inside the bracket. what we've done here is removed the brackets\n",
    "#from each of them, but since str.replace('}', '') left values that \n",
    "#prevented me from being able to convert to int, so more precise and\n",
    "#inelegant code was used here\n",
    "##maybe do np.where to catch most of them (wouldn't get Phyrexian\n",
    "##or 2/W)\n",
    "cards['manaCost'] = cards['manaCost'].str.replace('W', '')\n",
    "cards['manaCost'] = cards['manaCost'].str.replace('U', '')\n",
    "cards['manaCost'] = cards['manaCost'].str.replace('B', '')\n",
    "cards['manaCost'] = cards['manaCost'].str.replace('R', '')\n",
    "cards['manaCost'] = cards['manaCost'].str.replace('G', '')\n",
    "cards['manaCost'] = cards['manaCost'].str.replace('P', '')\n",
    "cards['manaCost'] = cards['manaCost'].str.replace('C', '')\n",
    "cards['manaCost'] = cards['manaCost'].str.replace('{/}', '{}')\n",
    "cards['manaCost'] = cards['manaCost'].str.replace('{', '')\n",
    "cards['manaCost'] = cards['manaCost'].str.replace('2/}', 'Z')\n",
    "cards['manaCost'] = cards['manaCost'].str.replace('ZZZZZ', '10')\n",
    "cards['manaCost'] = cards['manaCost'].str.replace('X}X}', '0}')\n",
    "cards['manaCost'] = cards['manaCost'].str.replace('X}', '0}')\n",
    "cards['manaCost'] = cards['manaCost'].str.replace('}}', '}')\n",
    "cards['manaCost'] = cards['manaCost'].str.replace('}}', '}')\n",
    "cards['manaCost'] = cards['manaCost'].str.replace('}}', '}')\n",
    "cards['manaCost'] = cards['manaCost'].str.replace('}}', '}')\n",
    "cards['manaCost'] = cards['manaCost'].str.replace('}}', '}')\n",
    "cards['manaCost'] = cards['manaCost'].str.replace('0}2', '2')\n",
    "cards['manaCost'] = cards['manaCost'].str.replace('1}', '1')\n",
    "cards['manaCost'] = cards['manaCost'].str.replace('2}', '2')\n",
    "cards['manaCost'] = cards['manaCost'].str.replace('3}', '3')\n",
    "cards['manaCost'] = cards['manaCost'].str.replace('4}', '4')\n",
    "cards['manaCost'] = cards['manaCost'].str.replace('5}', '5')\n",
    "cards['manaCost'] = cards['manaCost'].str.replace('6}', '6')\n",
    "cards['manaCost'] = cards['manaCost'].str.replace('7}', '7')\n",
    "cards['manaCost'] = cards['manaCost'].str.replace('8}', '8')\n",
    "cards['manaCost'] = cards['manaCost'].str.replace('9}', '9')\n",
    "cards['manaCost'] = cards['manaCost'].str.replace('0}', '0')\n",
    "cards['manaCost'] = cards['manaCost'].str.replace('}', '0')\n",
    "cards['manaCost'] = cards['manaCost'].fillna(0)\n",
    "cards['Generic Cost'] = cards['manaCost'].astype(int)"
   ]
  },
  {
   "cell_type": "code",
   "execution_count": 17,
   "metadata": {},
   "outputs": [],
   "source": [
    "#specific cost signifies a requirement added while generic cost signifies\n",
    "#the leftover amount (convertedManaCost - specific cost)\n",
    "cards['Specific Cost'] = (cards['convertedManaCost'] - cards['Generic Cost']).astype(int)"
   ]
  },
  {
   "cell_type": "code",
   "execution_count": 18,
   "metadata": {},
   "outputs": [],
   "source": [
    "#the keywords are given based on color, so since we have color defined, we can\n",
    "#determine the likely keywords based on that. a single column that gives the number\n",
    "#of keywords that the card has is more useful than knowing exactly what keyword\n",
    "#the card has\n",
    "cards['EG Keywords'] = (cards['Deathtouch'] + cards['Defender'] + cards['Double strike'] \n",
    "                        + cards['First strike'] + cards['Flash'] + cards['Flying'] + cards['Haste']\n",
    "                        + cards['Lifelink'] + cards['Protection'] + cards['Reach'] + cards['Trample'] \n",
    "                        + cards['Vigilance'] + cards['Fight'] + cards['Mill'] + \n",
    "                        cards['Regenerate / Indestructible'] + cards['Fear / Intimidate / Menace']\n",
    "                        + cards['Shroud / Hexproof'] + cards['Scry'] + cards['Fight'])"
   ]
  },
  {
   "cell_type": "code",
   "execution_count": 19,
   "metadata": {},
   "outputs": [],
   "source": [
    "#this is a bit trickier. sets generally add new keywords that will appear only in\n",
    "#that set, so we'll focus on this qualitatively rather than quantitatively.\n",
    "#once my coding abilities become better, I may be able to return to this and\n",
    "#find a better way to quantify this\n",
    "cards['Set Keywords'] = cards['keywords']\n",
    "old_evergreen = ['Deathtouch', 'Defender', 'Double strike', 'First strike', 'Fight',\n",
    "                 'Flash', 'Flying', 'Haste', 'Lifelink', 'Protection', 'Scry',\n",
    "                 'Reach', 'Trample', 'Vigilance', 'Fight', 'Mill', 'Regenerate',\n",
    "                 'Indestructible', 'Fear', 'Intimidate', 'Menace', 'Shroud', 'Hexproof']\n",
    "for keyword in old_evergreen:\n",
    "    cards['Set Keywords'] = cards['Set Keywords'].str.replace(keyword,'-')\n",
    "cards['Set Keywords'] = cards['Set Keywords'].str.replace(',','')\n",
    "cards['Set Keywords'] = cards['Set Keywords'].str.replace(' from','-')\n",
    "cards['Set Keywords'] = cards['Set Keywords'].str.replace('--','-')\n",
    "cards['Set Keywords'] = cards['Set Keywords'].str.replace('--','-')\n",
    "cards['Set Keywords'] = cards['Set Keywords'].str.replace('--','-')\n",
    "cards['Set Keywords'] = cards['Set Keywords'].str.replace('--','-')\n",
    "cards['Set Keywords'] = cards['Set Keywords'].str.replace('--','-')\n",
    "cards['Set Keywords'] = cards['Set Keywords'].str.replace('--','-')\n",
    "cards['Set Keywords'] = cards['Set Keywords'].str.replace('--','-')\n",
    "cards['Set Keywords'] = cards['Set Keywords'].str.replace('--','-')\n",
    "cards['Set Keywords'] = cards['Set Keywords'].str.replace('--','-')\n",
    "cards['Set Keywords'] = cards['Set Keywords'].str.replace('-','No keywords')\n",
    "cards['Set Keywords'] = np.where(cards['Set Keywords'] == 'No keywords', 0, 1)"
   ]
  },
  {
   "cell_type": "code",
   "execution_count": 20,
   "metadata": {},
   "outputs": [],
   "source": [
    "#these are the columns that were useful for getting us other values but aren't\n",
    "#useful or needed for the final analysis\n",
    "cards = cards.drop(['Deathtouch', 'Defender', 'Double strike', 'First strike', 'Fight',\n",
    "                 'Flash', 'Flying', 'Haste', 'Lifelink', 'Protection', 'Scry', 'Generic Cost',\n",
    "                 'Reach', 'Trample', 'Vigilance', 'Fight', 'Mill', 'Regenerate / Indestructible',\n",
    "                    'Fear / Intimidate / Menace', 'Shroud / Hexproof'], axis = 1)\n",
    "cards = cards.drop(['borderColor', 'colors', 'keywords', 'manaCost', 'rarity', \n",
    "                    'supertypes', 'text', 'type'], axis = 1)\n",
    "cards = cards.drop(['Indestructible1', 'Hexproof1', 'Menace1', 'Fear1', 'Shroud1',\n",
    "                    'Intimidate1', 'Regenerate1'], axis = 1)"
   ]
  },
  {
   "cell_type": "code",
   "execution_count": 21,
   "metadata": {},
   "outputs": [],
   "source": [
    "#I want to make the column names to look a little more uniform and move\n",
    "#the potential targets to the end of the dataframe\n",
    "dummy = pd.DataFrame()\n",
    "dummy = cards.drop(['convertedManaCost', 'power', 'toughness', 'Legendary',\n",
    "                    'Specific Cost', 'EG Keywords', 'Set Keywords'], axis = 1)\n",
    "dummy['Converted Mana Cost'] = cards['convertedManaCost']\n",
    "dummy['Specific Mana Cost'] = cards['Specific Cost']\n",
    "dummy['Power'] = cards['power']\n",
    "dummy['Toughness'] = cards['toughness']\n",
    "dummy['Legendary'] = cards['Legendary']\n",
    "dummy['EG Keywords'] = cards['EG Keywords']\n",
    "dummy['Set Keywords'] = cards['Set Keywords']\n",
    "cards = dummy.copy()"
   ]
  },
  {
   "cell_type": "code",
   "execution_count": 22,
   "metadata": {},
   "outputs": [],
   "source": [
    "#as a baseline of comparison, I'd like to focus on the past two years or so of cards. to\n",
    "#do that, I'll make a new df with only cards that appeared in sets in that timeframe\n",
    "recent_sets = ['DOM', 'M19', 'GRN', 'RNA', 'WAR', 'M20', 'ELD', 'THB', 'IKO', 'M21', 'ZNR', 'KHM']\n",
    "recent_cards = pd.DataFrame()\n",
    "for set in recent_sets:\n",
    "    recent_cards = recent_cards.append(cards[cards['setCode'] == set])"
   ]
  },
  {
   "cell_type": "code",
   "execution_count": 23,
   "metadata": {},
   "outputs": [],
   "source": [
    "#while names and setCode are great for identification, they aren't necessary for\n",
    "#the machine learning\n",
    "cards = cards.drop(['name', 'setCode'], axis = 1)\n",
    "cards = cards.reset_index()\n",
    "cards = cards.drop(['index'], 1)\n",
    "recent_cards = recent_cards.drop(['name', 'setCode'], axis = 1)\n",
    "recent_cards = recent_cards.reset_index()\n",
    "recent_cards = recent_cards.drop(['index'], 1)"
   ]
  },
  {
   "cell_type": "code",
   "execution_count": 24,
   "metadata": {},
   "outputs": [],
   "source": [
    "#finally, we'll save these cleaned datasets and use them in modeling\n",
    "cards.to_csv('D:/DSF Files/cards.txt', index=False, sep='\\t')\n",
    "recent_cards.to_csv('D:/DSF Files/recentcards.txt', index=False, sep='\\t')"
   ]
  },
  {
   "cell_type": "code",
   "execution_count": null,
   "metadata": {},
   "outputs": [],
   "source": []
  }
 ],
 "metadata": {
  "kernelspec": {
   "display_name": "Python 3",
   "language": "python",
   "name": "python3"
  },
  "language_info": {
   "codemirror_mode": {
    "name": "ipython",
    "version": 3
   },
   "file_extension": ".py",
   "mimetype": "text/x-python",
   "name": "python",
   "nbconvert_exporter": "python",
   "pygments_lexer": "ipython3",
   "version": "3.8.3"
  }
 },
 "nbformat": 4,
 "nbformat_minor": 4
}
